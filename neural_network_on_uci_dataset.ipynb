{
 "cells": [
  {
   "cell_type": "code",
   "execution_count": 198,
   "metadata": {
    "collapsed": true
   },
   "outputs": [],
   "source": [
    "import pandas as pd\n",
    "import numpy as np\n",
    "import tensorflow as tf"
   ]
  },
  {
   "cell_type": "code",
   "execution_count": 199,
   "metadata": {
    "scrolled": true
   },
   "outputs": [],
   "source": [
    "df = pd.read_csv('heart_disease_classify/Main_Data.csv')\n",
    "df = df.drop(['Unnamed: 0'], axis = 1)"
   ]
  },
  {
   "cell_type": "code",
   "execution_count": 200,
   "metadata": {},
   "outputs": [],
   "source": [
    "from sklearn.preprocessing import StandardScaler"
   ]
  },
  {
   "cell_type": "code",
   "execution_count": 160,
   "metadata": {},
   "outputs": [],
   "source": [
    "from keras.models import Sequential\n",
    "from keras.layers import Dense, Activation\n",
    "from keras.optimizers import Adam, SGD\n",
    "from sklearn import preprocessing"
   ]
  },
  {
   "cell_type": "code",
   "execution_count": 161,
   "metadata": {},
   "outputs": [],
   "source": [
    "model = Sequential()\n",
    "model.add(Dense(32, input_dim=15))\n",
    "model.add(Dense(64, activation = 'relu'))\n",
    "model.add(Dense(64, activation = 'relu'))\n",
    "model.add(Dense(64, activation = 'relu'))\n",
    "model.add(Dense(64, activation = 'relu'))\n",
    "model.add(Dense(64, activation = 'relu'))\n",
    "model.add(Dense(64, activation = 'relu'))\n",
    "model.add(Dense(80, activation = 'relu'))\n",
    "model.add(Dense(1, activation = 'softmax'))"
   ]
  },
  {
   "cell_type": "code",
   "execution_count": 188,
   "metadata": {},
   "outputs": [],
   "source": [
    "adam = Adam(lr=0.0001, beta_1=0.9, beta_2=0.999, epsilon=1e-08, decay=1e-1)\n",
    "sgd = SGD(lr=1e-5, momentum=0.9, decay=0.0, nesterov=False)\n",
    "model.compile(optimizer = 'rmsprop', loss = 'binary_crossentropy', metrics = ['accuracy'])"
   ]
  },
  {
   "cell_type": "code",
   "execution_count": 189,
   "metadata": {
    "collapsed": true
   },
   "outputs": [],
   "source": [
    "y_train = np.array(df['Diagnosis'])\n",
    "X_train = np.array(df.drop(['Diagnosis'], axis = 1))"
   ]
  },
  {
   "cell_type": "code",
   "execution_count": 201,
   "metadata": {},
   "outputs": [],
   "source": [
    "sc = StandardScaler()\n",
    "sc.fit(X_train)\n",
    "X_train_norm = sc.transform(X_train)"
   ]
  },
  {
   "cell_type": "code",
   "execution_count": 191,
   "metadata": {},
   "outputs": [
    {
     "data": {
      "text/plain": [
       "(564, 1)"
      ]
     },
     "execution_count": 191,
     "metadata": {},
     "output_type": "execute_result"
    }
   ],
   "source": [
    "y = np.expand_dims(y_train, axis = 1)\n",
    "y.shape"
   ]
  },
  {
   "cell_type": "code",
   "execution_count": 203,
   "metadata": {},
   "outputs": [
    {
     "name": "stdout",
     "output_type": "stream",
     "text": [
      "Train on 394 samples, validate on 170 samples\n",
      "Epoch 1/100\n",
      "394/394 [==============================] - 0s - loss: 10.3180 - acc: 0.3528 - val_loss: 6.7521 - val_acc: 0.5765\n",
      "Epoch 2/100\n",
      "394/394 [==============================] - 0s - loss: 10.3180 - acc: 0.3528 - val_loss: 6.7521 - val_acc: 0.5765\n",
      "Epoch 3/100\n",
      "394/394 [==============================] - 0s - loss: 10.3180 - acc: 0.3528 - val_loss: 6.7521 - val_acc: 0.5765\n",
      "Epoch 4/100\n",
      "394/394 [==============================] - 0s - loss: 10.3180 - acc: 0.3528 - val_loss: 6.7521 - val_acc: 0.5765\n",
      "Epoch 5/100\n",
      "394/394 [==============================] - 0s - loss: 10.3180 - acc: 0.3528 - val_loss: 6.7521 - val_acc: 0.5765\n",
      "Epoch 6/100\n",
      "394/394 [==============================] - 0s - loss: 10.3180 - acc: 0.3528 - val_loss: 6.7521 - val_acc: 0.5765\n",
      "Epoch 7/100\n",
      "394/394 [==============================] - 0s - loss: 10.3180 - acc: 0.3528 - val_loss: 6.7521 - val_acc: 0.5765\n",
      "Epoch 8/100\n",
      "394/394 [==============================] - 0s - loss: 10.3180 - acc: 0.3528 - val_loss: 6.7521 - val_acc: 0.5765\n",
      "Epoch 9/100\n",
      "394/394 [==============================] - 0s - loss: 10.3180 - acc: 0.3528 - val_loss: 6.7521 - val_acc: 0.5765\n",
      "Epoch 10/100\n",
      "394/394 [==============================] - 0s - loss: 10.3180 - acc: 0.3528 - val_loss: 6.7521 - val_acc: 0.5765\n",
      "Epoch 11/100\n",
      "394/394 [==============================] - 0s - loss: 10.3180 - acc: 0.3528 - val_loss: 6.7521 - val_acc: 0.5765\n",
      "Epoch 12/100\n",
      "394/394 [==============================] - 0s - loss: 10.3180 - acc: 0.3528 - val_loss: 6.7521 - val_acc: 0.5765\n",
      "Epoch 13/100\n",
      "394/394 [==============================] - 0s - loss: 10.3180 - acc: 0.3528 - val_loss: 6.7521 - val_acc: 0.5765\n",
      "Epoch 14/100\n",
      "394/394 [==============================] - 0s - loss: 10.3180 - acc: 0.3528 - val_loss: 6.7521 - val_acc: 0.5765\n",
      "Epoch 15/100\n",
      "394/394 [==============================] - 0s - loss: 10.3180 - acc: 0.3528 - val_loss: 6.7521 - val_acc: 0.5765\n",
      "Epoch 16/100\n",
      "394/394 [==============================] - 0s - loss: 10.3180 - acc: 0.3528 - val_loss: 6.7521 - val_acc: 0.5765\n",
      "Epoch 17/100\n",
      "394/394 [==============================] - 0s - loss: 10.3180 - acc: 0.3528 - val_loss: 6.7521 - val_acc: 0.5765\n",
      "Epoch 18/100\n",
      "394/394 [==============================] - 0s - loss: 10.3180 - acc: 0.3528 - val_loss: 6.7521 - val_acc: 0.5765\n",
      "Epoch 19/100\n",
      "394/394 [==============================] - 0s - loss: 10.3180 - acc: 0.3528 - val_loss: 6.7521 - val_acc: 0.5765\n",
      "Epoch 20/100\n",
      "394/394 [==============================] - 0s - loss: 10.3180 - acc: 0.3528 - val_loss: 6.7521 - val_acc: 0.5765\n",
      "Epoch 21/100\n",
      "394/394 [==============================] - 0s - loss: 10.3180 - acc: 0.3528 - val_loss: 6.7521 - val_acc: 0.5765\n",
      "Epoch 22/100\n",
      "394/394 [==============================] - 0s - loss: 10.3180 - acc: 0.3528 - val_loss: 6.7521 - val_acc: 0.5765\n",
      "Epoch 23/100\n",
      "394/394 [==============================] - 0s - loss: 10.3180 - acc: 0.3528 - val_loss: 6.7521 - val_acc: 0.5765\n",
      "Epoch 24/100\n",
      "394/394 [==============================] - 0s - loss: 10.3180 - acc: 0.3528 - val_loss: 6.7521 - val_acc: 0.5765\n",
      "Epoch 25/100\n",
      "394/394 [==============================] - 0s - loss: 10.3180 - acc: 0.3528 - val_loss: 6.7521 - val_acc: 0.5765\n",
      "Epoch 26/100\n",
      "394/394 [==============================] - 0s - loss: 10.3180 - acc: 0.3528 - val_loss: 6.7521 - val_acc: 0.5765\n",
      "Epoch 27/100\n",
      "394/394 [==============================] - 0s - loss: 10.3180 - acc: 0.3528 - val_loss: 6.7521 - val_acc: 0.5765\n",
      "Epoch 28/100\n",
      "394/394 [==============================] - 0s - loss: 10.3180 - acc: 0.3528 - val_loss: 6.7521 - val_acc: 0.5765\n",
      "Epoch 29/100\n",
      "394/394 [==============================] - 0s - loss: 10.3180 - acc: 0.3528 - val_loss: 6.7521 - val_acc: 0.5765\n",
      "Epoch 30/100\n",
      "394/394 [==============================] - 0s - loss: 10.3180 - acc: 0.3528 - val_loss: 6.7521 - val_acc: 0.5765\n",
      "Epoch 31/100\n",
      "394/394 [==============================] - 0s - loss: 10.3180 - acc: 0.3528 - val_loss: 6.7521 - val_acc: 0.5765\n",
      "Epoch 32/100\n",
      "394/394 [==============================] - 0s - loss: 10.3180 - acc: 0.3528 - val_loss: 6.7521 - val_acc: 0.5765\n",
      "Epoch 33/100\n",
      "394/394 [==============================] - 0s - loss: 10.3180 - acc: 0.3528 - val_loss: 6.7521 - val_acc: 0.5765\n",
      "Epoch 34/100\n",
      "394/394 [==============================] - 0s - loss: 10.3180 - acc: 0.3528 - val_loss: 6.7521 - val_acc: 0.5765\n",
      "Epoch 35/100\n",
      "394/394 [==============================] - 0s - loss: 10.3180 - acc: 0.3528 - val_loss: 6.7521 - val_acc: 0.5765\n",
      "Epoch 36/100\n",
      "394/394 [==============================] - 0s - loss: 10.3180 - acc: 0.3528 - val_loss: 6.7521 - val_acc: 0.5765\n",
      "Epoch 37/100\n",
      "394/394 [==============================] - 0s - loss: 10.3180 - acc: 0.3528 - val_loss: 6.7521 - val_acc: 0.5765\n",
      "Epoch 38/100\n",
      "394/394 [==============================] - 0s - loss: 10.3180 - acc: 0.3528 - val_loss: 6.7521 - val_acc: 0.5765\n",
      "Epoch 39/100\n",
      "394/394 [==============================] - 0s - loss: 10.3180 - acc: 0.3528 - val_loss: 6.7521 - val_acc: 0.5765\n",
      "Epoch 40/100\n",
      "394/394 [==============================] - 0s - loss: 10.3180 - acc: 0.3528 - val_loss: 6.7521 - val_acc: 0.5765\n",
      "Epoch 41/100\n",
      "394/394 [==============================] - 0s - loss: 10.3180 - acc: 0.3528 - val_loss: 6.7521 - val_acc: 0.5765\n",
      "Epoch 42/100\n",
      "394/394 [==============================] - 0s - loss: 10.3180 - acc: 0.3528 - val_loss: 6.7521 - val_acc: 0.5765\n",
      "Epoch 43/100\n",
      "394/394 [==============================] - 0s - loss: 10.3180 - acc: 0.3528 - val_loss: 6.7521 - val_acc: 0.5765\n",
      "Epoch 44/100\n",
      "394/394 [==============================] - 0s - loss: 10.3180 - acc: 0.3528 - val_loss: 6.7521 - val_acc: 0.5765\n",
      "Epoch 45/100\n",
      "394/394 [==============================] - 0s - loss: 10.3180 - acc: 0.3528 - val_loss: 6.7521 - val_acc: 0.5765\n",
      "Epoch 46/100\n",
      "394/394 [==============================] - 0s - loss: 10.3180 - acc: 0.3528 - val_loss: 6.7521 - val_acc: 0.5765\n",
      "Epoch 47/100\n",
      "394/394 [==============================] - 0s - loss: 10.3180 - acc: 0.3528 - val_loss: 6.7521 - val_acc: 0.5765\n",
      "Epoch 48/100\n",
      "394/394 [==============================] - 0s - loss: 10.3180 - acc: 0.3528 - val_loss: 6.7521 - val_acc: 0.5765\n",
      "Epoch 49/100\n",
      "394/394 [==============================] - 0s - loss: 10.3180 - acc: 0.3528 - val_loss: 6.7521 - val_acc: 0.5765\n",
      "Epoch 50/100\n",
      "394/394 [==============================] - 0s - loss: 10.3180 - acc: 0.3528 - val_loss: 6.7521 - val_acc: 0.5765\n",
      "Epoch 51/100\n",
      "394/394 [==============================] - 0s - loss: 10.3180 - acc: 0.3528 - val_loss: 6.7521 - val_acc: 0.5765\n",
      "Epoch 52/100\n",
      "394/394 [==============================] - 0s - loss: 10.3180 - acc: 0.3528 - val_loss: 6.7521 - val_acc: 0.5765\n",
      "Epoch 53/100\n",
      "394/394 [==============================] - 0s - loss: 10.3180 - acc: 0.3528 - val_loss: 6.7521 - val_acc: 0.5765\n",
      "Epoch 54/100\n",
      "394/394 [==============================] - 0s - loss: 10.3180 - acc: 0.3528 - val_loss: 6.7521 - val_acc: 0.5765\n",
      "Epoch 55/100\n",
      "394/394 [==============================] - 0s - loss: 10.3180 - acc: 0.3528 - val_loss: 6.7521 - val_acc: 0.5765\n",
      "Epoch 56/100\n",
      "394/394 [==============================] - 0s - loss: 10.3180 - acc: 0.3528 - val_loss: 6.7521 - val_acc: 0.5765\n",
      "Epoch 57/100\n",
      "394/394 [==============================] - 0s - loss: 10.3180 - acc: 0.3528 - val_loss: 6.7521 - val_acc: 0.5765\n",
      "Epoch 58/100\n",
      "394/394 [==============================] - 0s - loss: 10.3180 - acc: 0.3528 - val_loss: 6.7521 - val_acc: 0.5765\n",
      "Epoch 59/100\n",
      "394/394 [==============================] - 0s - loss: 10.3180 - acc: 0.3528 - val_loss: 6.7521 - val_acc: 0.5765\n",
      "Epoch 60/100\n",
      "394/394 [==============================] - 0s - loss: 10.3180 - acc: 0.3528 - val_loss: 6.7521 - val_acc: 0.5765\n",
      "Epoch 61/100\n",
      "394/394 [==============================] - 0s - loss: 10.3180 - acc: 0.3528 - val_loss: 6.7521 - val_acc: 0.5765\n",
      "Epoch 62/100\n",
      "394/394 [==============================] - 0s - loss: 10.3180 - acc: 0.3528 - val_loss: 6.7521 - val_acc: 0.5765\n",
      "Epoch 63/100\n",
      "394/394 [==============================] - 0s - loss: 10.3180 - acc: 0.3528 - val_loss: 6.7521 - val_acc: 0.5765\n",
      "Epoch 64/100\n",
      "394/394 [==============================] - 0s - loss: 10.3180 - acc: 0.3528 - val_loss: 6.7521 - val_acc: 0.5765\n",
      "Epoch 65/100\n"
     ]
    },
    {
     "name": "stdout",
     "output_type": "stream",
     "text": [
      "394/394 [==============================] - 0s - loss: 10.3180 - acc: 0.3528 - val_loss: 6.7521 - val_acc: 0.5765\n",
      "Epoch 66/100\n",
      "394/394 [==============================] - 0s - loss: 10.3180 - acc: 0.3528 - val_loss: 6.7521 - val_acc: 0.5765\n",
      "Epoch 67/100\n",
      "394/394 [==============================] - 0s - loss: 10.3180 - acc: 0.3528 - val_loss: 6.7521 - val_acc: 0.5765\n",
      "Epoch 68/100\n",
      "394/394 [==============================] - 0s - loss: 10.3180 - acc: 0.3528 - val_loss: 6.7521 - val_acc: 0.5765\n",
      "Epoch 69/100\n",
      "394/394 [==============================] - 0s - loss: 10.3180 - acc: 0.3528 - val_loss: 6.7521 - val_acc: 0.5765\n",
      "Epoch 70/100\n",
      "394/394 [==============================] - 0s - loss: 10.3180 - acc: 0.3528 - val_loss: 6.7521 - val_acc: 0.5765\n",
      "Epoch 71/100\n",
      "394/394 [==============================] - 0s - loss: 10.3180 - acc: 0.3528 - val_loss: 6.7521 - val_acc: 0.5765\n",
      "Epoch 72/100\n",
      "394/394 [==============================] - 0s - loss: 10.3180 - acc: 0.3528 - val_loss: 6.7521 - val_acc: 0.5765\n",
      "Epoch 73/100\n",
      "394/394 [==============================] - 0s - loss: 10.3180 - acc: 0.3528 - val_loss: 6.7521 - val_acc: 0.5765\n",
      "Epoch 74/100\n",
      "394/394 [==============================] - 0s - loss: 10.3180 - acc: 0.3528 - val_loss: 6.7521 - val_acc: 0.5765\n",
      "Epoch 75/100\n",
      "394/394 [==============================] - ETA: 0s - loss: 10.0885 - acc: 0.36 - 0s - loss: 10.3180 - acc: 0.3528 - val_loss: 6.7521 - val_acc: 0.5765\n",
      "Epoch 76/100\n",
      "394/394 [==============================] - 0s - loss: 10.3180 - acc: 0.3528 - val_loss: 6.7521 - val_acc: 0.5765\n",
      "Epoch 77/100\n",
      "394/394 [==============================] - 0s - loss: 10.3180 - acc: 0.3528 - val_loss: 6.7521 - val_acc: 0.5765\n",
      "Epoch 78/100\n",
      "394/394 [==============================] - 0s - loss: 10.3180 - acc: 0.3528 - val_loss: 6.7521 - val_acc: 0.5765\n",
      "Epoch 79/100\n",
      "394/394 [==============================] - 0s - loss: 10.3180 - acc: 0.3528 - val_loss: 6.7521 - val_acc: 0.5765\n",
      "Epoch 80/100\n",
      "394/394 [==============================] - 0s - loss: 10.3180 - acc: 0.3528 - val_loss: 6.7521 - val_acc: 0.5765\n",
      "Epoch 81/100\n",
      "394/394 [==============================] - 0s - loss: 10.3180 - acc: 0.3528 - val_loss: 6.7521 - val_acc: 0.5765\n",
      "Epoch 82/100\n",
      "394/394 [==============================] - 0s - loss: 10.3180 - acc: 0.3528 - val_loss: 6.7521 - val_acc: 0.5765\n",
      "Epoch 83/100\n",
      "394/394 [==============================] - 0s - loss: 10.3180 - acc: 0.3528 - val_loss: 6.7521 - val_acc: 0.5765\n",
      "Epoch 84/100\n",
      "394/394 [==============================] - 0s - loss: 10.3180 - acc: 0.3528 - val_loss: 6.7521 - val_acc: 0.5765\n",
      "Epoch 85/100\n",
      "394/394 [==============================] - 0s - loss: 10.3180 - acc: 0.3528 - val_loss: 6.7521 - val_acc: 0.5765\n",
      "Epoch 86/100\n",
      "394/394 [==============================] - 0s - loss: 10.3180 - acc: 0.3528 - val_loss: 6.7521 - val_acc: 0.5765\n",
      "Epoch 87/100\n",
      "394/394 [==============================] - 0s - loss: 10.3180 - acc: 0.3528 - val_loss: 6.7521 - val_acc: 0.5765\n",
      "Epoch 88/100\n",
      "394/394 [==============================] - 0s - loss: 10.3180 - acc: 0.3528 - val_loss: 6.7521 - val_acc: 0.5765\n",
      "Epoch 89/100\n",
      "394/394 [==============================] - 0s - loss: 10.3180 - acc: 0.3528 - val_loss: 6.7521 - val_acc: 0.5765\n",
      "Epoch 90/100\n",
      "394/394 [==============================] - 0s - loss: 10.3180 - acc: 0.3528 - val_loss: 6.7521 - val_acc: 0.5765\n",
      "Epoch 91/100\n",
      "394/394 [==============================] - 0s - loss: 10.3180 - acc: 0.3528 - val_loss: 6.7521 - val_acc: 0.5765\n",
      "Epoch 92/100\n",
      "394/394 [==============================] - 0s - loss: 10.3180 - acc: 0.3528 - val_loss: 6.7521 - val_acc: 0.5765\n",
      "Epoch 93/100\n",
      "394/394 [==============================] - 0s - loss: 10.3180 - acc: 0.3528 - val_loss: 6.7521 - val_acc: 0.5765\n",
      "Epoch 94/100\n",
      "394/394 [==============================] - 0s - loss: 10.3180 - acc: 0.3528 - val_loss: 6.7521 - val_acc: 0.5765\n",
      "Epoch 95/100\n",
      "394/394 [==============================] - 0s - loss: 10.3180 - acc: 0.3528 - val_loss: 6.7521 - val_acc: 0.5765\n",
      "Epoch 96/100\n",
      "394/394 [==============================] - 0s - loss: 10.3180 - acc: 0.3528 - val_loss: 6.7521 - val_acc: 0.5765\n",
      "Epoch 97/100\n",
      "394/394 [==============================] - 0s - loss: 10.3180 - acc: 0.3528 - val_loss: 6.7521 - val_acc: 0.5765\n",
      "Epoch 98/100\n",
      "394/394 [==============================] - 0s - loss: 10.3180 - acc: 0.3528 - val_loss: 6.7521 - val_acc: 0.5765\n",
      "Epoch 99/100\n",
      "394/394 [==============================] - 0s - loss: 10.3180 - acc: 0.3528 - val_loss: 6.7521 - val_acc: 0.5765\n",
      "Epoch 100/100\n",
      "394/394 [==============================] - 0s - loss: 10.3180 - acc: 0.3528 - val_loss: 6.7521 - val_acc: 0.5765\n"
     ]
    },
    {
     "data": {
      "text/plain": [
       "<keras.callbacks.History at 0x7f5f81316470>"
      ]
     },
     "execution_count": 203,
     "metadata": {},
     "output_type": "execute_result"
    }
   ],
   "source": [
    "model.fit(X_train_norm, y, epochs = 100, batch_size = 128, validation_split = 0.3, verbose = 1)"
   ]
  },
  {
   "cell_type": "code",
   "execution_count": null,
   "metadata": {},
   "outputs": [],
   "source": []
  },
  {
   "cell_type": "code",
   "execution_count": null,
   "metadata": {
    "collapsed": true
   },
   "outputs": [],
   "source": []
  },
  {
   "cell_type": "code",
   "execution_count": null,
   "metadata": {
    "collapsed": true
   },
   "outputs": [],
   "source": []
  },
  {
   "cell_type": "code",
   "execution_count": null,
   "metadata": {
    "collapsed": true
   },
   "outputs": [],
   "source": []
  },
  {
   "cell_type": "code",
   "execution_count": null,
   "metadata": {
    "collapsed": true
   },
   "outputs": [],
   "source": []
  },
  {
   "cell_type": "code",
   "execution_count": null,
   "metadata": {
    "collapsed": true
   },
   "outputs": [],
   "source": []
  },
  {
   "cell_type": "code",
   "execution_count": null,
   "metadata": {
    "collapsed": true
   },
   "outputs": [],
   "source": []
  },
  {
   "cell_type": "code",
   "execution_count": null,
   "metadata": {
    "collapsed": true
   },
   "outputs": [],
   "source": []
  },
  {
   "cell_type": "code",
   "execution_count": null,
   "metadata": {
    "collapsed": true
   },
   "outputs": [],
   "source": []
  }
 ],
 "metadata": {
  "kernelspec": {
   "display_name": "Python 3",
   "language": "python",
   "name": "python3"
  },
  "language_info": {
   "codemirror_mode": {
    "name": "ipython",
    "version": 3
   },
   "file_extension": ".py",
   "mimetype": "text/x-python",
   "name": "python",
   "nbconvert_exporter": "python",
   "pygments_lexer": "ipython3",
   "version": "3.6.3"
  }
 },
 "nbformat": 4,
 "nbformat_minor": 2
}
