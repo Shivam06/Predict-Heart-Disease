{
 "cells": [
  {
   "cell_type": "code",
   "execution_count": 1,
   "metadata": {
    "collapsed": true
   },
   "outputs": [],
   "source": [
    "import numpy as np\n",
    "import pandas as pd\n",
    "import tensorflow as tf"
   ]
  },
  {
   "cell_type": "code",
   "execution_count": 4,
   "metadata": {},
   "outputs": [
    {
     "data": {
      "text/html": [
       "<div>\n",
       "<style>\n",
       "    .dataframe thead tr:only-child th {\n",
       "        text-align: right;\n",
       "    }\n",
       "\n",
       "    .dataframe thead th {\n",
       "        text-align: left;\n",
       "    }\n",
       "\n",
       "    .dataframe tbody tr th {\n",
       "        vertical-align: top;\n",
       "    }\n",
       "</style>\n",
       "<table border=\"1\" class=\"dataframe\">\n",
       "  <thead>\n",
       "    <tr style=\"text-align: right;\">\n",
       "      <th></th>\n",
       "      <th>Age</th>\n",
       "      <th>Sex</th>\n",
       "      <th>Resting_BP</th>\n",
       "      <th>Cholestrol_mg/dl</th>\n",
       "      <th>Fasting_sugar</th>\n",
       "      <th>Max_HR_achieved</th>\n",
       "      <th>Exercise_induced_angina</th>\n",
       "      <th>ST_depression</th>\n",
       "      <th>Chest_pain_type_1</th>\n",
       "      <th>Chest_pain_type_2</th>\n",
       "      <th>Chest_pain_type_3</th>\n",
       "      <th>Chest_pain_type_4</th>\n",
       "      <th>Resting_ECG_0</th>\n",
       "      <th>Resting_ECG_1</th>\n",
       "      <th>Resting_ECG_2</th>\n",
       "      <th>Diagnosis</th>\n",
       "    </tr>\n",
       "  </thead>\n",
       "  <tbody>\n",
       "    <tr>\n",
       "      <th>0</th>\n",
       "      <td>63</td>\n",
       "      <td>1</td>\n",
       "      <td>145</td>\n",
       "      <td>233</td>\n",
       "      <td>1</td>\n",
       "      <td>150</td>\n",
       "      <td>0</td>\n",
       "      <td>2.3</td>\n",
       "      <td>1</td>\n",
       "      <td>0</td>\n",
       "      <td>0</td>\n",
       "      <td>0</td>\n",
       "      <td>0</td>\n",
       "      <td>0</td>\n",
       "      <td>1</td>\n",
       "      <td>0</td>\n",
       "    </tr>\n",
       "    <tr>\n",
       "      <th>1</th>\n",
       "      <td>67</td>\n",
       "      <td>1</td>\n",
       "      <td>160</td>\n",
       "      <td>286</td>\n",
       "      <td>0</td>\n",
       "      <td>108</td>\n",
       "      <td>1</td>\n",
       "      <td>1.5</td>\n",
       "      <td>0</td>\n",
       "      <td>0</td>\n",
       "      <td>0</td>\n",
       "      <td>1</td>\n",
       "      <td>0</td>\n",
       "      <td>0</td>\n",
       "      <td>1</td>\n",
       "      <td>1</td>\n",
       "    </tr>\n",
       "    <tr>\n",
       "      <th>2</th>\n",
       "      <td>67</td>\n",
       "      <td>1</td>\n",
       "      <td>120</td>\n",
       "      <td>229</td>\n",
       "      <td>0</td>\n",
       "      <td>129</td>\n",
       "      <td>1</td>\n",
       "      <td>2.6</td>\n",
       "      <td>0</td>\n",
       "      <td>0</td>\n",
       "      <td>0</td>\n",
       "      <td>1</td>\n",
       "      <td>0</td>\n",
       "      <td>0</td>\n",
       "      <td>1</td>\n",
       "      <td>1</td>\n",
       "    </tr>\n",
       "    <tr>\n",
       "      <th>3</th>\n",
       "      <td>37</td>\n",
       "      <td>1</td>\n",
       "      <td>130</td>\n",
       "      <td>250</td>\n",
       "      <td>0</td>\n",
       "      <td>187</td>\n",
       "      <td>0</td>\n",
       "      <td>3.5</td>\n",
       "      <td>0</td>\n",
       "      <td>0</td>\n",
       "      <td>1</td>\n",
       "      <td>0</td>\n",
       "      <td>1</td>\n",
       "      <td>0</td>\n",
       "      <td>0</td>\n",
       "      <td>0</td>\n",
       "    </tr>\n",
       "    <tr>\n",
       "      <th>4</th>\n",
       "      <td>41</td>\n",
       "      <td>0</td>\n",
       "      <td>130</td>\n",
       "      <td>204</td>\n",
       "      <td>0</td>\n",
       "      <td>172</td>\n",
       "      <td>0</td>\n",
       "      <td>1.4</td>\n",
       "      <td>0</td>\n",
       "      <td>1</td>\n",
       "      <td>0</td>\n",
       "      <td>0</td>\n",
       "      <td>0</td>\n",
       "      <td>0</td>\n",
       "      <td>1</td>\n",
       "      <td>0</td>\n",
       "    </tr>\n",
       "  </tbody>\n",
       "</table>\n",
       "</div>"
      ],
      "text/plain": [
       "   Age  Sex  Resting_BP  Cholestrol_mg/dl  Fasting_sugar  Max_HR_achieved  \\\n",
       "0   63    1         145               233              1              150   \n",
       "1   67    1         160               286              0              108   \n",
       "2   67    1         120               229              0              129   \n",
       "3   37    1         130               250              0              187   \n",
       "4   41    0         130               204              0              172   \n",
       "\n",
       "   Exercise_induced_angina  ST_depression  Chest_pain_type_1  \\\n",
       "0                        0            2.3                  1   \n",
       "1                        1            1.5                  0   \n",
       "2                        1            2.6                  0   \n",
       "3                        0            3.5                  0   \n",
       "4                        0            1.4                  0   \n",
       "\n",
       "   Chest_pain_type_2  Chest_pain_type_3  Chest_pain_type_4  Resting_ECG_0  \\\n",
       "0                  0                  0                  0              0   \n",
       "1                  0                  0                  1              0   \n",
       "2                  0                  0                  1              0   \n",
       "3                  0                  1                  0              1   \n",
       "4                  1                  0                  0              0   \n",
       "\n",
       "   Resting_ECG_1  Resting_ECG_2  Diagnosis  \n",
       "0              0              1          0  \n",
       "1              0              1          1  \n",
       "2              0              1          1  \n",
       "3              0              0          0  \n",
       "4              0              1          0  "
      ]
     },
     "execution_count": 4,
     "metadata": {},
     "output_type": "execute_result"
    }
   ],
   "source": [
    "data = pd.read_csv('Main_Data.csv')\n",
    "data.head()"
   ]
  },
  {
   "cell_type": "code",
   "execution_count": 5,
   "metadata": {},
   "outputs": [
    {
     "data": {
      "text/plain": [
       "0    0.579787\n",
       "1    0.420213\n",
       "Name: Diagnosis, dtype: float64"
      ]
     },
     "execution_count": 5,
     "metadata": {},
     "output_type": "execute_result"
    }
   ],
   "source": [
    "data[\"Diagnosis\"].value_counts()/(327+237)"
   ]
  },
  {
   "cell_type": "code",
   "execution_count": 6,
   "metadata": {
    "collapsed": true
   },
   "outputs": [],
   "source": [
    "from sklearn.utils import shuffle\n",
    "data = shuffle(data)"
   ]
  },
  {
   "cell_type": "code",
   "execution_count": 7,
   "metadata": {},
   "outputs": [
    {
     "data": {
      "text/plain": [
       "Age                        0\n",
       "Sex                        0\n",
       "Resting_BP                 0\n",
       "Cholestrol_mg/dl           0\n",
       "Fasting_sugar              0\n",
       "Max_HR_achieved            0\n",
       "Exercise_induced_angina    0\n",
       "ST_depression              0\n",
       "Chest_pain_type_1          0\n",
       "Chest_pain_type_2          0\n",
       "Chest_pain_type_3          0\n",
       "Chest_pain_type_4          0\n",
       "Resting_ECG_0              0\n",
       "Resting_ECG_1              0\n",
       "Resting_ECG_2              0\n",
       "Diagnosis                  0\n",
       "dtype: int64"
      ]
     },
     "execution_count": 7,
     "metadata": {},
     "output_type": "execute_result"
    }
   ],
   "source": [
    "data.isnull().sum()"
   ]
  },
  {
   "cell_type": "code",
   "execution_count": 8,
   "metadata": {
    "collapsed": true
   },
   "outputs": [],
   "source": [
    "from sklearn.model_selection import train_test_split\n",
    "from sklearn.preprocessing import StandardScaler\n",
    "X = data.iloc[:, 0:15].values\n",
    "y = data.iloc[:,15].values\n",
    "\n",
    "X_train, X_test, y_train, y_test = train_test_split(X, y, test_size=0.2, random_state=0)\n",
    "X_train_t, X_val, y_train_t, y_val = train_test_split(X_train, y_train, test_size = 0.25, random_state=0)\n",
    "sc = StandardScaler()\n",
    "sc.fit(X_train_t)\n",
    "X_train_t_std = sc.transform(X_train_t)\n",
    "X_val_std = sc.transform(X_val)\n",
    "X_test_std = sc.transform(X_test)"
   ]
  },
  {
   "cell_type": "code",
   "execution_count": 9,
   "metadata": {},
   "outputs": [
    {
     "name": "stderr",
     "output_type": "stream",
     "text": [
      "/home/rohan/anaconda2/envs/innovacer/lib/python3.6/site-packages/sklearn/cross_validation.py:41: DeprecationWarning: This module was deprecated in version 0.18 in favor of the model_selection module into which all the refactored classes and functions are moved. Also note that the interface of the new CV iterators are different from that of this module. This module will be removed in 0.20.\n",
      "  \"This module will be removed in 0.20.\", DeprecationWarning)\n",
      "/home/rohan/anaconda2/envs/innovacer/lib/python3.6/site-packages/sklearn/grid_search.py:42: DeprecationWarning: This module was deprecated in version 0.18 in favor of the model_selection module into which all the refactored classes and functions are moved. This module will be removed in 0.20.\n",
      "  DeprecationWarning)\n"
     ]
    }
   ],
   "source": [
    "param_grid = [\n",
    "  {'C': np.array([0.001,0.003,0.01,0.03,0.1,0.3,1,3]), 'kernel': ['linear','rbf','sigmoid'],\n",
    "  'gamma': np.array([0.001,0.003,0.01,0.03,0.1,0.3,1,3])}\n",
    " ]\n",
    "from sklearn.svm import SVC\n",
    "from sklearn.grid_search import GridSearchCV\n",
    "svm_clf = SVC()\n",
    "grid = GridSearchCV(svm_clf, param_grid, cv=10, scoring='accuracy')"
   ]
  },
  {
   "cell_type": "code",
   "execution_count": 10,
   "metadata": {},
   "outputs": [
    {
     "data": {
      "text/plain": [
       "GridSearchCV(cv=10, error_score='raise',\n",
       "       estimator=SVC(C=1.0, cache_size=200, class_weight=None, coef0=0.0,\n",
       "  decision_function_shape='ovr', degree=3, gamma='auto', kernel='rbf',\n",
       "  max_iter=-1, probability=False, random_state=None, shrinking=True,\n",
       "  tol=0.001, verbose=False),\n",
       "       fit_params={}, iid=True, n_jobs=1,\n",
       "       param_grid=[{'C': array([  1.00000e-03,   3.00000e-03,   1.00000e-02,   3.00000e-02,\n",
       "         1.00000e-01,   3.00000e-01,   1.00000e+00,   3.00000e+00]), 'kernel': ['linear', 'rbf', 'sigmoid'], 'gamma': array([  1.00000e-03,   3.00000e-03,   1.00000e-02,   3.00000e-02,\n",
       "         1.00000e-01,   3.00000e-01,   1.00000e+00,   3.00000e+00])}],\n",
       "       pre_dispatch='2*n_jobs', refit=True, scoring='accuracy', verbose=0)"
      ]
     },
     "execution_count": 10,
     "metadata": {},
     "output_type": "execute_result"
    }
   ],
   "source": [
    "grid.fit(X_train_t_std, y_train_t)"
   ]
  },
  {
   "cell_type": "code",
   "execution_count": 11,
   "metadata": {},
   "outputs": [
    {
     "data": {
      "text/plain": [
       "[mean: 0.61243, std: 0.01324, params: {'C': 0.001, 'gamma': 0.001, 'kernel': 'linear'},\n",
       " mean: 0.60947, std: 0.00702, params: {'C': 0.001, 'gamma': 0.001, 'kernel': 'rbf'},\n",
       " mean: 0.60947, std: 0.00702, params: {'C': 0.001, 'gamma': 0.001, 'kernel': 'sigmoid'},\n",
       " mean: 0.61243, std: 0.01324, params: {'C': 0.001, 'gamma': 0.0030000000000000001, 'kernel': 'linear'},\n",
       " mean: 0.60947, std: 0.00702, params: {'C': 0.001, 'gamma': 0.0030000000000000001, 'kernel': 'rbf'},\n",
       " mean: 0.60947, std: 0.00702, params: {'C': 0.001, 'gamma': 0.0030000000000000001, 'kernel': 'sigmoid'},\n",
       " mean: 0.61243, std: 0.01324, params: {'C': 0.001, 'gamma': 0.01, 'kernel': 'linear'},\n",
       " mean: 0.60947, std: 0.00702, params: {'C': 0.001, 'gamma': 0.01, 'kernel': 'rbf'},\n",
       " mean: 0.60947, std: 0.00702, params: {'C': 0.001, 'gamma': 0.01, 'kernel': 'sigmoid'},\n",
       " mean: 0.61243, std: 0.01324, params: {'C': 0.001, 'gamma': 0.029999999999999999, 'kernel': 'linear'},\n",
       " mean: 0.60947, std: 0.00702, params: {'C': 0.001, 'gamma': 0.029999999999999999, 'kernel': 'rbf'},\n",
       " mean: 0.60947, std: 0.00702, params: {'C': 0.001, 'gamma': 0.029999999999999999, 'kernel': 'sigmoid'},\n",
       " mean: 0.61243, std: 0.01324, params: {'C': 0.001, 'gamma': 0.10000000000000001, 'kernel': 'linear'},\n",
       " mean: 0.60947, std: 0.00702, params: {'C': 0.001, 'gamma': 0.10000000000000001, 'kernel': 'rbf'},\n",
       " mean: 0.60947, std: 0.00702, params: {'C': 0.001, 'gamma': 0.10000000000000001, 'kernel': 'sigmoid'},\n",
       " mean: 0.61243, std: 0.01324, params: {'C': 0.001, 'gamma': 0.29999999999999999, 'kernel': 'linear'},\n",
       " mean: 0.60947, std: 0.00702, params: {'C': 0.001, 'gamma': 0.29999999999999999, 'kernel': 'rbf'},\n",
       " mean: 0.60947, std: 0.00702, params: {'C': 0.001, 'gamma': 0.29999999999999999, 'kernel': 'sigmoid'},\n",
       " mean: 0.61243, std: 0.01324, params: {'C': 0.001, 'gamma': 1.0, 'kernel': 'linear'},\n",
       " mean: 0.60947, std: 0.00702, params: {'C': 0.001, 'gamma': 1.0, 'kernel': 'rbf'},\n",
       " mean: 0.60947, std: 0.00702, params: {'C': 0.001, 'gamma': 1.0, 'kernel': 'sigmoid'},\n",
       " mean: 0.61243, std: 0.01324, params: {'C': 0.001, 'gamma': 3.0, 'kernel': 'linear'},\n",
       " mean: 0.60947, std: 0.00702, params: {'C': 0.001, 'gamma': 3.0, 'kernel': 'rbf'},\n",
       " mean: 0.60947, std: 0.00702, params: {'C': 0.001, 'gamma': 3.0, 'kernel': 'sigmoid'},\n",
       " mean: 0.78107, std: 0.06949, params: {'C': 0.0030000000000000001, 'gamma': 0.001, 'kernel': 'linear'},\n",
       " mean: 0.60947, std: 0.00702, params: {'C': 0.0030000000000000001, 'gamma': 0.001, 'kernel': 'rbf'},\n",
       " mean: 0.60947, std: 0.00702, params: {'C': 0.0030000000000000001, 'gamma': 0.001, 'kernel': 'sigmoid'},\n",
       " mean: 0.78107, std: 0.06949, params: {'C': 0.0030000000000000001, 'gamma': 0.0030000000000000001, 'kernel': 'linear'},\n",
       " mean: 0.60947, std: 0.00702, params: {'C': 0.0030000000000000001, 'gamma': 0.0030000000000000001, 'kernel': 'rbf'},\n",
       " mean: 0.60947, std: 0.00702, params: {'C': 0.0030000000000000001, 'gamma': 0.0030000000000000001, 'kernel': 'sigmoid'},\n",
       " mean: 0.78107, std: 0.06949, params: {'C': 0.0030000000000000001, 'gamma': 0.01, 'kernel': 'linear'},\n",
       " mean: 0.60947, std: 0.00702, params: {'C': 0.0030000000000000001, 'gamma': 0.01, 'kernel': 'rbf'},\n",
       " mean: 0.60947, std: 0.00702, params: {'C': 0.0030000000000000001, 'gamma': 0.01, 'kernel': 'sigmoid'},\n",
       " mean: 0.78107, std: 0.06949, params: {'C': 0.0030000000000000001, 'gamma': 0.029999999999999999, 'kernel': 'linear'},\n",
       " mean: 0.60947, std: 0.00702, params: {'C': 0.0030000000000000001, 'gamma': 0.029999999999999999, 'kernel': 'rbf'},\n",
       " mean: 0.60947, std: 0.00702, params: {'C': 0.0030000000000000001, 'gamma': 0.029999999999999999, 'kernel': 'sigmoid'},\n",
       " mean: 0.78107, std: 0.06949, params: {'C': 0.0030000000000000001, 'gamma': 0.10000000000000001, 'kernel': 'linear'},\n",
       " mean: 0.60947, std: 0.00702, params: {'C': 0.0030000000000000001, 'gamma': 0.10000000000000001, 'kernel': 'rbf'},\n",
       " mean: 0.60947, std: 0.00702, params: {'C': 0.0030000000000000001, 'gamma': 0.10000000000000001, 'kernel': 'sigmoid'},\n",
       " mean: 0.78107, std: 0.06949, params: {'C': 0.0030000000000000001, 'gamma': 0.29999999999999999, 'kernel': 'linear'},\n",
       " mean: 0.60947, std: 0.00702, params: {'C': 0.0030000000000000001, 'gamma': 0.29999999999999999, 'kernel': 'rbf'},\n",
       " mean: 0.60947, std: 0.00702, params: {'C': 0.0030000000000000001, 'gamma': 0.29999999999999999, 'kernel': 'sigmoid'},\n",
       " mean: 0.78107, std: 0.06949, params: {'C': 0.0030000000000000001, 'gamma': 1.0, 'kernel': 'linear'},\n",
       " mean: 0.60947, std: 0.00702, params: {'C': 0.0030000000000000001, 'gamma': 1.0, 'kernel': 'rbf'},\n",
       " mean: 0.60947, std: 0.00702, params: {'C': 0.0030000000000000001, 'gamma': 1.0, 'kernel': 'sigmoid'},\n",
       " mean: 0.78107, std: 0.06949, params: {'C': 0.0030000000000000001, 'gamma': 3.0, 'kernel': 'linear'},\n",
       " mean: 0.60947, std: 0.00702, params: {'C': 0.0030000000000000001, 'gamma': 3.0, 'kernel': 'rbf'},\n",
       " mean: 0.60947, std: 0.00702, params: {'C': 0.0030000000000000001, 'gamma': 3.0, 'kernel': 'sigmoid'},\n",
       " mean: 0.78698, std: 0.07419, params: {'C': 0.01, 'gamma': 0.001, 'kernel': 'linear'},\n",
       " mean: 0.60947, std: 0.00702, params: {'C': 0.01, 'gamma': 0.001, 'kernel': 'rbf'},\n",
       " mean: 0.60947, std: 0.00702, params: {'C': 0.01, 'gamma': 0.001, 'kernel': 'sigmoid'},\n",
       " mean: 0.78698, std: 0.07419, params: {'C': 0.01, 'gamma': 0.0030000000000000001, 'kernel': 'linear'},\n",
       " mean: 0.60947, std: 0.00702, params: {'C': 0.01, 'gamma': 0.0030000000000000001, 'kernel': 'rbf'},\n",
       " mean: 0.60947, std: 0.00702, params: {'C': 0.01, 'gamma': 0.0030000000000000001, 'kernel': 'sigmoid'},\n",
       " mean: 0.78698, std: 0.07419, params: {'C': 0.01, 'gamma': 0.01, 'kernel': 'linear'},\n",
       " mean: 0.60947, std: 0.00702, params: {'C': 0.01, 'gamma': 0.01, 'kernel': 'rbf'},\n",
       " mean: 0.60947, std: 0.00702, params: {'C': 0.01, 'gamma': 0.01, 'kernel': 'sigmoid'},\n",
       " mean: 0.78698, std: 0.07419, params: {'C': 0.01, 'gamma': 0.029999999999999999, 'kernel': 'linear'},\n",
       " mean: 0.60947, std: 0.00702, params: {'C': 0.01, 'gamma': 0.029999999999999999, 'kernel': 'rbf'},\n",
       " mean: 0.60947, std: 0.00702, params: {'C': 0.01, 'gamma': 0.029999999999999999, 'kernel': 'sigmoid'},\n",
       " mean: 0.78698, std: 0.07419, params: {'C': 0.01, 'gamma': 0.10000000000000001, 'kernel': 'linear'},\n",
       " mean: 0.60947, std: 0.00702, params: {'C': 0.01, 'gamma': 0.10000000000000001, 'kernel': 'rbf'},\n",
       " mean: 0.60947, std: 0.00702, params: {'C': 0.01, 'gamma': 0.10000000000000001, 'kernel': 'sigmoid'},\n",
       " mean: 0.78698, std: 0.07419, params: {'C': 0.01, 'gamma': 0.29999999999999999, 'kernel': 'linear'},\n",
       " mean: 0.60947, std: 0.00702, params: {'C': 0.01, 'gamma': 0.29999999999999999, 'kernel': 'rbf'},\n",
       " mean: 0.72189, std: 0.04503, params: {'C': 0.01, 'gamma': 0.29999999999999999, 'kernel': 'sigmoid'},\n",
       " mean: 0.78698, std: 0.07419, params: {'C': 0.01, 'gamma': 1.0, 'kernel': 'linear'},\n",
       " mean: 0.60947, std: 0.00702, params: {'C': 0.01, 'gamma': 1.0, 'kernel': 'rbf'},\n",
       " mean: 0.76923, std: 0.05729, params: {'C': 0.01, 'gamma': 1.0, 'kernel': 'sigmoid'},\n",
       " mean: 0.78698, std: 0.07419, params: {'C': 0.01, 'gamma': 3.0, 'kernel': 'linear'},\n",
       " mean: 0.60947, std: 0.00702, params: {'C': 0.01, 'gamma': 3.0, 'kernel': 'rbf'},\n",
       " mean: 0.77219, std: 0.06093, params: {'C': 0.01, 'gamma': 3.0, 'kernel': 'sigmoid'},\n",
       " mean: 0.81065, std: 0.07900, params: {'C': 0.029999999999999999, 'gamma': 0.001, 'kernel': 'linear'},\n",
       " mean: 0.60947, std: 0.00702, params: {'C': 0.029999999999999999, 'gamma': 0.001, 'kernel': 'rbf'},\n",
       " mean: 0.60947, std: 0.00702, params: {'C': 0.029999999999999999, 'gamma': 0.001, 'kernel': 'sigmoid'},\n",
       " mean: 0.81065, std: 0.07900, params: {'C': 0.029999999999999999, 'gamma': 0.0030000000000000001, 'kernel': 'linear'},\n",
       " mean: 0.60947, std: 0.00702, params: {'C': 0.029999999999999999, 'gamma': 0.0030000000000000001, 'kernel': 'rbf'},\n",
       " mean: 0.60947, std: 0.00702, params: {'C': 0.029999999999999999, 'gamma': 0.0030000000000000001, 'kernel': 'sigmoid'},\n",
       " mean: 0.81065, std: 0.07900, params: {'C': 0.029999999999999999, 'gamma': 0.01, 'kernel': 'linear'},\n",
       " mean: 0.60947, std: 0.00702, params: {'C': 0.029999999999999999, 'gamma': 0.01, 'kernel': 'rbf'},\n",
       " mean: 0.60947, std: 0.00702, params: {'C': 0.029999999999999999, 'gamma': 0.01, 'kernel': 'sigmoid'},\n",
       " mean: 0.81065, std: 0.07900, params: {'C': 0.029999999999999999, 'gamma': 0.029999999999999999, 'kernel': 'linear'},\n",
       " mean: 0.60947, std: 0.00702, params: {'C': 0.029999999999999999, 'gamma': 0.029999999999999999, 'kernel': 'rbf'},\n",
       " mean: 0.60947, std: 0.00702, params: {'C': 0.029999999999999999, 'gamma': 0.029999999999999999, 'kernel': 'sigmoid'},\n",
       " mean: 0.81065, std: 0.07900, params: {'C': 0.029999999999999999, 'gamma': 0.10000000000000001, 'kernel': 'linear'},\n",
       " mean: 0.60947, std: 0.00702, params: {'C': 0.029999999999999999, 'gamma': 0.10000000000000001, 'kernel': 'rbf'},\n",
       " mean: 0.78698, std: 0.06519, params: {'C': 0.029999999999999999, 'gamma': 0.10000000000000001, 'kernel': 'sigmoid'},\n",
       " mean: 0.81065, std: 0.07900, params: {'C': 0.029999999999999999, 'gamma': 0.29999999999999999, 'kernel': 'linear'},\n",
       " mean: 0.60947, std: 0.00702, params: {'C': 0.029999999999999999, 'gamma': 0.29999999999999999, 'kernel': 'rbf'},\n",
       " mean: 0.78698, std: 0.06431, params: {'C': 0.029999999999999999, 'gamma': 0.29999999999999999, 'kernel': 'sigmoid'},\n",
       " mean: 0.81065, std: 0.07900, params: {'C': 0.029999999999999999, 'gamma': 1.0, 'kernel': 'linear'},\n",
       " mean: 0.60947, std: 0.00702, params: {'C': 0.029999999999999999, 'gamma': 1.0, 'kernel': 'rbf'},\n",
       " mean: 0.79290, std: 0.07822, params: {'C': 0.029999999999999999, 'gamma': 1.0, 'kernel': 'sigmoid'},\n",
       " mean: 0.81065, std: 0.07900, params: {'C': 0.029999999999999999, 'gamma': 3.0, 'kernel': 'linear'},\n",
       " mean: 0.60947, std: 0.00702, params: {'C': 0.029999999999999999, 'gamma': 3.0, 'kernel': 'rbf'},\n",
       " mean: 0.80178, std: 0.06427, params: {'C': 0.029999999999999999, 'gamma': 3.0, 'kernel': 'sigmoid'},\n",
       " mean: 0.79882, std: 0.07361, params: {'C': 0.10000000000000001, 'gamma': 0.001, 'kernel': 'linear'},\n",
       " mean: 0.60947, std: 0.00702, params: {'C': 0.10000000000000001, 'gamma': 0.001, 'kernel': 'rbf'},\n",
       " mean: 0.60947, std: 0.00702, params: {'C': 0.10000000000000001, 'gamma': 0.001, 'kernel': 'sigmoid'},\n",
       " mean: 0.79882, std: 0.07361, params: {'C': 0.10000000000000001, 'gamma': 0.0030000000000000001, 'kernel': 'linear'},\n",
       " mean: 0.60947, std: 0.00702, params: {'C': 0.10000000000000001, 'gamma': 0.0030000000000000001, 'kernel': 'rbf'},\n",
       " mean: 0.60947, std: 0.00702, params: {'C': 0.10000000000000001, 'gamma': 0.0030000000000000001, 'kernel': 'sigmoid'},\n",
       " mean: 0.79882, std: 0.07361, params: {'C': 0.10000000000000001, 'gamma': 0.01, 'kernel': 'linear'},\n",
       " mean: 0.72781, std: 0.04304, params: {'C': 0.10000000000000001, 'gamma': 0.01, 'kernel': 'rbf'},\n",
       " mean: 0.61243, std: 0.01324, params: {'C': 0.10000000000000001, 'gamma': 0.01, 'kernel': 'sigmoid'},\n",
       " mean: 0.79882, std: 0.07361, params: {'C': 0.10000000000000001, 'gamma': 0.029999999999999999, 'kernel': 'linear'},\n",
       " mean: 0.78698, std: 0.06685, params: {'C': 0.10000000000000001, 'gamma': 0.029999999999999999, 'kernel': 'rbf'},\n",
       " mean: 0.78107, std: 0.06949, params: {'C': 0.10000000000000001, 'gamma': 0.029999999999999999, 'kernel': 'sigmoid'},\n",
       " mean: 0.79882, std: 0.07361, params: {'C': 0.10000000000000001, 'gamma': 0.10000000000000001, 'kernel': 'linear'},\n",
       " mean: 0.74260, std: 0.03934, params: {'C': 0.10000000000000001, 'gamma': 0.10000000000000001, 'kernel': 'rbf'},\n",
       " mean: 0.78402, std: 0.07198, params: {'C': 0.10000000000000001, 'gamma': 0.10000000000000001, 'kernel': 'sigmoid'},\n",
       " mean: 0.79882, std: 0.07361, params: {'C': 0.10000000000000001, 'gamma': 0.29999999999999999, 'kernel': 'linear'},\n",
       " mean: 0.60947, std: 0.00702, params: {'C': 0.10000000000000001, 'gamma': 0.29999999999999999, 'kernel': 'rbf'},\n",
       " mean: 0.78994, std: 0.07297, params: {'C': 0.10000000000000001, 'gamma': 0.29999999999999999, 'kernel': 'sigmoid'},\n",
       " mean: 0.79882, std: 0.07361, params: {'C': 0.10000000000000001, 'gamma': 1.0, 'kernel': 'linear'},\n",
       " mean: 0.60947, std: 0.00702, params: {'C': 0.10000000000000001, 'gamma': 1.0, 'kernel': 'rbf'},\n",
       " mean: 0.79290, std: 0.06068, params: {'C': 0.10000000000000001, 'gamma': 1.0, 'kernel': 'sigmoid'},\n",
       " mean: 0.79882, std: 0.07361, params: {'C': 0.10000000000000001, 'gamma': 3.0, 'kernel': 'linear'},\n",
       " mean: 0.60947, std: 0.00702, params: {'C': 0.10000000000000001, 'gamma': 3.0, 'kernel': 'rbf'},\n",
       " mean: 0.76923, std: 0.07447, params: {'C': 0.10000000000000001, 'gamma': 3.0, 'kernel': 'sigmoid'},\n",
       " mean: 0.79290, std: 0.07271, params: {'C': 0.29999999999999999, 'gamma': 0.001, 'kernel': 'linear'},\n",
       " mean: 0.60947, std: 0.00702, params: {'C': 0.29999999999999999, 'gamma': 0.001, 'kernel': 'rbf'},\n",
       " mean: 0.60947, std: 0.00702, params: {'C': 0.29999999999999999, 'gamma': 0.001, 'kernel': 'sigmoid'},\n",
       " mean: 0.79290, std: 0.07271, params: {'C': 0.29999999999999999, 'gamma': 0.0030000000000000001, 'kernel': 'linear'},\n",
       " mean: 0.74260, std: 0.04642, params: {'C': 0.29999999999999999, 'gamma': 0.0030000000000000001, 'kernel': 'rbf'},\n",
       " mean: 0.60947, std: 0.00702, params: {'C': 0.29999999999999999, 'gamma': 0.0030000000000000001, 'kernel': 'sigmoid'},\n",
       " mean: 0.79290, std: 0.07271, params: {'C': 0.29999999999999999, 'gamma': 0.01, 'kernel': 'linear'},\n",
       " mean: 0.77515, std: 0.06777, params: {'C': 0.29999999999999999, 'gamma': 0.01, 'kernel': 'rbf'},\n",
       " mean: 0.78107, std: 0.06949, params: {'C': 0.29999999999999999, 'gamma': 0.01, 'kernel': 'sigmoid'},\n",
       " mean: 0.79290, std: 0.07271, params: {'C': 0.29999999999999999, 'gamma': 0.029999999999999999, 'kernel': 'linear'},\n",
       " mean: 0.78698, std: 0.05773, params: {'C': 0.29999999999999999, 'gamma': 0.029999999999999999, 'kernel': 'rbf'},\n",
       " mean: 0.78402, std: 0.07349, params: {'C': 0.29999999999999999, 'gamma': 0.029999999999999999, 'kernel': 'sigmoid'},\n",
       " mean: 0.79290, std: 0.07271, params: {'C': 0.29999999999999999, 'gamma': 0.10000000000000001, 'kernel': 'linear'},\n",
       " mean: 0.75740, std: 0.05158, params: {'C': 0.29999999999999999, 'gamma': 0.10000000000000001, 'kernel': 'rbf'},\n",
       " mean: 0.80178, std: 0.06293, params: {'C': 0.29999999999999999, 'gamma': 0.10000000000000001, 'kernel': 'sigmoid'},\n",
       " mean: 0.79290, std: 0.07271, params: {'C': 0.29999999999999999, 'gamma': 0.29999999999999999, 'kernel': 'linear'},\n",
       " mean: 0.69822, std: 0.03602, params: {'C': 0.29999999999999999, 'gamma': 0.29999999999999999, 'kernel': 'rbf'},\n",
       " mean: 0.75444, std: 0.07935, params: {'C': 0.29999999999999999, 'gamma': 0.29999999999999999, 'kernel': 'sigmoid'},\n",
       " mean: 0.79290, std: 0.07271, params: {'C': 0.29999999999999999, 'gamma': 1.0, 'kernel': 'linear'},\n",
       " mean: 0.60947, std: 0.00702, params: {'C': 0.29999999999999999, 'gamma': 1.0, 'kernel': 'rbf'},\n",
       " mean: 0.75444, std: 0.08152, params: {'C': 0.29999999999999999, 'gamma': 1.0, 'kernel': 'sigmoid'},\n",
       " mean: 0.79290, std: 0.07271, params: {'C': 0.29999999999999999, 'gamma': 3.0, 'kernel': 'linear'},\n",
       " mean: 0.60947, std: 0.00702, params: {'C': 0.29999999999999999, 'gamma': 3.0, 'kernel': 'rbf'},\n",
       " mean: 0.72189, std: 0.11040, params: {'C': 0.29999999999999999, 'gamma': 3.0, 'kernel': 'sigmoid'},\n",
       " mean: 0.79586, std: 0.06873, params: {'C': 1.0, 'gamma': 0.001, 'kernel': 'linear'},\n",
       " mean: 0.78402, std: 0.06510, params: {'C': 1.0, 'gamma': 0.001, 'kernel': 'rbf'},\n",
       " mean: 0.61243, std: 0.01324, params: {'C': 1.0, 'gamma': 0.001, 'kernel': 'sigmoid'},\n",
       " mean: 0.79586, std: 0.06873, params: {'C': 1.0, 'gamma': 0.0030000000000000001, 'kernel': 'linear'},\n",
       " mean: 0.78107, std: 0.06693, params: {'C': 1.0, 'gamma': 0.0030000000000000001, 'kernel': 'rbf'},\n",
       " mean: 0.78107, std: 0.06949, params: {'C': 1.0, 'gamma': 0.0030000000000000001, 'kernel': 'sigmoid'},\n",
       " mean: 0.79586, std: 0.06873, params: {'C': 1.0, 'gamma': 0.01, 'kernel': 'linear'},\n",
       " mean: 0.79586, std: 0.07936, params: {'C': 1.0, 'gamma': 0.01, 'kernel': 'rbf'},\n",
       " mean: 0.78698, std: 0.07419, params: {'C': 1.0, 'gamma': 0.01, 'kernel': 'sigmoid'},\n",
       " mean: 0.79586, std: 0.06873, params: {'C': 1.0, 'gamma': 0.029999999999999999, 'kernel': 'linear'},\n",
       " mean: 0.78402, std: 0.07302, params: {'C': 1.0, 'gamma': 0.029999999999999999, 'kernel': 'rbf'},\n",
       " mean: 0.79882, std: 0.07577, params: {'C': 1.0, 'gamma': 0.029999999999999999, 'kernel': 'sigmoid'},\n",
       " mean: 0.79586, std: 0.06873, params: {'C': 1.0, 'gamma': 0.10000000000000001, 'kernel': 'linear'},\n",
       " mean: 0.76923, std: 0.06146, params: {'C': 1.0, 'gamma': 0.10000000000000001, 'kernel': 'rbf'},\n",
       " mean: 0.75740, std: 0.06946, params: {'C': 1.0, 'gamma': 0.10000000000000001, 'kernel': 'sigmoid'},\n",
       " mean: 0.79586, std: 0.06873, params: {'C': 1.0, 'gamma': 0.29999999999999999, 'kernel': 'linear'},\n",
       " mean: 0.71893, std: 0.05017, params: {'C': 1.0, 'gamma': 0.29999999999999999, 'kernel': 'rbf'},\n",
       " mean: 0.74852, std: 0.07492, params: {'C': 1.0, 'gamma': 0.29999999999999999, 'kernel': 'sigmoid'},\n",
       " mean: 0.79586, std: 0.06873, params: {'C': 1.0, 'gamma': 1.0, 'kernel': 'linear'},\n",
       " mean: 0.65680, std: 0.05181, params: {'C': 1.0, 'gamma': 1.0, 'kernel': 'rbf'},\n",
       " mean: 0.73669, std: 0.05132, params: {'C': 1.0, 'gamma': 1.0, 'kernel': 'sigmoid'},\n",
       " mean: 0.79586, std: 0.06873, params: {'C': 1.0, 'gamma': 3.0, 'kernel': 'linear'},\n",
       " mean: 0.62426, std: 0.02306, params: {'C': 1.0, 'gamma': 3.0, 'kernel': 'rbf'},\n",
       " mean: 0.71006, std: 0.07904, params: {'C': 1.0, 'gamma': 3.0, 'kernel': 'sigmoid'},\n",
       " mean: 0.79882, std: 0.05844, params: {'C': 3.0, 'gamma': 0.001, 'kernel': 'linear'},\n",
       " mean: 0.77811, std: 0.06546, params: {'C': 3.0, 'gamma': 0.001, 'kernel': 'rbf'},\n",
       " mean: 0.78107, std: 0.06949, params: {'C': 3.0, 'gamma': 0.001, 'kernel': 'sigmoid'},\n",
       " mean: 0.79882, std: 0.05844, params: {'C': 3.0, 'gamma': 0.0030000000000000001, 'kernel': 'linear'},\n",
       " mean: 0.80178, std: 0.08922, params: {'C': 3.0, 'gamma': 0.0030000000000000001, 'kernel': 'rbf'},\n",
       " mean: 0.78698, std: 0.07419, params: {'C': 3.0, 'gamma': 0.0030000000000000001, 'kernel': 'sigmoid'},\n",
       " mean: 0.79882, std: 0.05844, params: {'C': 3.0, 'gamma': 0.01, 'kernel': 'linear'},\n",
       " mean: 0.79882, std: 0.09262, params: {'C': 3.0, 'gamma': 0.01, 'kernel': 'rbf'},\n",
       " mean: 0.80473, std: 0.08064, params: {'C': 3.0, 'gamma': 0.01, 'kernel': 'sigmoid'},\n",
       " mean: 0.79882, std: 0.05844, params: {'C': 3.0, 'gamma': 0.029999999999999999, 'kernel': 'linear'},\n",
       " mean: 0.76331, std: 0.06203, params: {'C': 3.0, 'gamma': 0.029999999999999999, 'kernel': 'rbf'},\n",
       " mean: 0.78994, std: 0.06856, params: {'C': 3.0, 'gamma': 0.029999999999999999, 'kernel': 'sigmoid'},\n",
       " mean: 0.79882, std: 0.05844, params: {'C': 3.0, 'gamma': 0.10000000000000001, 'kernel': 'linear'},\n",
       " mean: 0.74556, std: 0.06468, params: {'C': 3.0, 'gamma': 0.10000000000000001, 'kernel': 'rbf'},\n",
       " mean: 0.76627, std: 0.08780, params: {'C': 3.0, 'gamma': 0.10000000000000001, 'kernel': 'sigmoid'},\n",
       " mean: 0.79882, std: 0.05844, params: {'C': 3.0, 'gamma': 0.29999999999999999, 'kernel': 'linear'},\n",
       " mean: 0.70710, std: 0.05360, params: {'C': 3.0, 'gamma': 0.29999999999999999, 'kernel': 'rbf'},\n",
       " mean: 0.72189, std: 0.07380, params: {'C': 3.0, 'gamma': 0.29999999999999999, 'kernel': 'sigmoid'},\n",
       " mean: 0.79882, std: 0.05844, params: {'C': 3.0, 'gamma': 1.0, 'kernel': 'linear'},\n",
       " mean: 0.66568, std: 0.06739, params: {'C': 3.0, 'gamma': 1.0, 'kernel': 'rbf'},\n",
       " mean: 0.71598, std: 0.06729, params: {'C': 3.0, 'gamma': 1.0, 'kernel': 'sigmoid'},\n",
       " mean: 0.79882, std: 0.05844, params: {'C': 3.0, 'gamma': 3.0, 'kernel': 'linear'},\n",
       " mean: 0.61834, std: 0.03236, params: {'C': 3.0, 'gamma': 3.0, 'kernel': 'rbf'},\n",
       " mean: 0.72485, std: 0.07742, params: {'C': 3.0, 'gamma': 3.0, 'kernel': 'sigmoid'}]"
      ]
     },
     "execution_count": 11,
     "metadata": {},
     "output_type": "execute_result"
    }
   ],
   "source": [
    "grid.grid_scores_"
   ]
  },
  {
   "cell_type": "code",
   "execution_count": 12,
   "metadata": {},
   "outputs": [
    {
     "data": {
      "text/plain": [
       "{'C': 0.029999999999999999, 'gamma': 0.001, 'kernel': 'linear'}"
      ]
     },
     "execution_count": 12,
     "metadata": {},
     "output_type": "execute_result"
    }
   ],
   "source": [
    "grid.best_params_"
   ]
  },
  {
   "cell_type": "code",
   "execution_count": 13,
   "metadata": {},
   "outputs": [
    {
     "data": {
      "text/plain": [
       "0.79646017699115046"
      ]
     },
     "execution_count": 13,
     "metadata": {},
     "output_type": "execute_result"
    }
   ],
   "source": [
    "from sklearn.metrics import accuracy_score\n",
    "svm_clf = SVC(C=3, kernel ='rbf', gamma = 0.003, probability=True)\n",
    "svm_clf.fit(X_train_t_std, y_train_t)\n",
    "y_pred_val = svm_clf.predict(X_val_std)\n",
    "accuracy_score(y_pred_val, y_val)"
   ]
  },
  {
   "cell_type": "code",
   "execution_count": 14,
   "metadata": {},
   "outputs": [
    {
     "data": {
      "text/plain": [
       "0.84070796460176989"
      ]
     },
     "execution_count": 14,
     "metadata": {},
     "output_type": "execute_result"
    }
   ],
   "source": [
    "y_pred_test = svm_clf.predict(X_test_std)\n",
    "y_test_prob = np.array(svm_clf.predict_proba(X_test_std)[:,1])\n",
    "accuracy_score(y_pred_test, y_test)"
   ]
  },
  {
   "cell_type": "code",
   "execution_count": 15,
   "metadata": {},
   "outputs": [
    {
     "data": {
      "text/plain": [
       "array([1, 1, 1, 1, 0, 0, 1, 1, 0, 1, 0, 0, 0, 0, 0, 0, 0, 0, 0, 1, 0, 1, 0,\n",
       "       0, 1, 0, 0, 1, 0, 1, 1, 0, 0, 1, 1, 0, 1, 0, 0, 1, 0, 1, 1, 0, 0, 0,\n",
       "       0, 0, 0, 0, 1, 0, 1, 0, 1, 1, 1, 0, 1, 0, 0, 0, 0, 0, 1, 0, 0, 0, 0,\n",
       "       0, 0, 0, 1, 1, 1, 1, 0, 1, 1, 0, 0, 1, 0, 1, 0, 1, 0, 1, 1, 0, 1, 0,\n",
       "       1, 0, 1, 1, 0, 1, 0, 1, 0, 1, 0, 0, 0, 0, 0, 1, 1, 1, 0, 1, 0])"
      ]
     },
     "execution_count": 15,
     "metadata": {},
     "output_type": "execute_result"
    }
   ],
   "source": [
    "y_pred = np.array(y_test_prob>0.4,dtype=np.int)\n",
    "y_pred"
   ]
  },
  {
   "cell_type": "code",
   "execution_count": 16,
   "metadata": {},
   "outputs": [
    {
     "data": {
      "text/plain": [
       "0.83185840707964598"
      ]
     },
     "execution_count": 16,
     "metadata": {},
     "output_type": "execute_result"
    }
   ],
   "source": [
    "accuracy_score(y_pred, y_test)"
   ]
  },
  {
   "cell_type": "code",
   "execution_count": 17,
   "metadata": {},
   "outputs": [
    {
     "data": {
      "text/plain": [
       "0.41592920353982299"
      ]
     },
     "execution_count": 17,
     "metadata": {},
     "output_type": "execute_result"
    }
   ],
   "source": [
    "np.sum(y_test)/len(y_test)"
   ]
  },
  {
   "cell_type": "code",
   "execution_count": 18,
   "metadata": {
    "collapsed": true
   },
   "outputs": [],
   "source": [
    "import matplotlib.pyplot as plt\n",
    "from sklearn.metrics import roc_curve, roc_auc_score\n",
    "tpr, fpr, thresholds = roc_curve(y_test, y_test_prob)\n",
    "plt.plot(tpr,fpr)\n",
    "plt.xlim([0.0, 1.0])\n",
    "plt.ylim([0.0, 1.0])\n",
    "plt.title('ROC curve for diabetes classifier')\n",
    "plt.xlabel('False Positive Rate (1 - Specificity)')\n",
    "plt.ylabel('True Positive Rate (Sensitivity)')\n",
    "plt.grid(True)"
   ]
  },
  {
   "cell_type": "code",
   "execution_count": 19,
   "metadata": {},
   "outputs": [
    {
     "data": {
      "image/png": "[encoded data removed]",
      "text/plain": [
       "<matplotlib.figure.Figure at 0x7f7800fc2fd0>"
      ]
     },
     "metadata": {},
     "output_type": "display_data"
    }
   ],
   "source": [
    "plt.show()"
   ]
  },
  {
   "cell_type": "code",
   "execution_count": 20,
   "metadata": {},
   "outputs": [
    {
     "data": {
      "text/plain": [
       "0.91231463571889104"
      ]
     },
     "execution_count": 20,
     "metadata": {},
     "output_type": "execute_result"
    }
   ],
   "source": [
    "roc_auc_score(y_test,y_test_prob)"
   ]
  },
  {
   "cell_type": "code",
   "execution_count": 21,
   "metadata": {
    "collapsed": true
   },
   "outputs": [],
   "source": [
    "from sklearn.preprocessing import binarize\n",
    "from sklearn.metrics import confusion_matrix, recall_score\n",
    "def evaluate_score(threshold):\n",
    "    ypred_class = binarize([y_test_prob],threshold)\n",
    "    ypred_class = ypred_class[0]\n",
    "    confusion = confusion_matrix(y_test,ypred_class)\n",
    "    tpr = recall_score(y_test,ypred_class)\n",
    "    fpr = confusion[0,1]/float(confusion[0,1] + confusion[0,0])\n",
    "    print(\"Senstivty:\", tpr)\n",
    "    print(\"Specificity :\", 1-fpr)"
   ]
  },
  {
   "cell_type": "code",
   "execution_count": 22,
   "metadata": {},
   "outputs": [
    {
     "name": "stdout",
     "output_type": "stream",
     "text": [
      "Senstivty: 0.744680851064\n",
      "Specificity : 0.909090909091\n"
     ]
    }
   ],
   "source": [
    "evaluate_score(0.55)"
   ]
  },
  {
   "cell_type": "code",
   "execution_count": 57,
   "metadata": {},
   "outputs": [
    {
     "name": "stdout",
     "output_type": "stream",
     "text": [
      "Age: 45\n",
      "Sex:1\n",
      "Chest_pain type: 2\n",
      "Resting BP: 130\n",
      "Cholestrol: 250\n",
      "Fasting Sugar: 0\n",
      "Resting ECG: 2\n",
      "Max_hr: 160\n",
      "Excercise induced angina: 0\n",
      "ST_depression: 2.2\n"
     ]
    }
   ],
   "source": [
    "age=input(\"Age: \")\n",
    "sex=input(\"Sex:\")\n",
    "cpt=input(\"Chest_pain type: \")\n",
    "rest_bp=input(\"Resting BP: \")\n",
    "chol=input(\"Cholestrol: \")\n",
    "fast_sugar=input(\"Fasting Sugar: \")\n",
    "rest_ecg=input(\"Resting ECG: \")\n",
    "max_hr=input(\"Max_hr: \")\n",
    "ex_in=input(\"Excercise induced angina: \")\n",
    "stdep=input(\"ST_depression: \")"
   ]
  },
  {
   "cell_type": "code",
   "execution_count": 102,
   "metadata": {
    "collapsed": true
   },
   "outputs": [],
   "source": [
    "test1=[]\n",
    "test = np.zeros((1, 15))"
   ]
  },
  {
   "cell_type": "code",
   "execution_count": 107,
   "metadata": {},
   "outputs": [
    {
     "data": {
      "text/plain": [
       "array([[  45. ,    1. ,  130. ,  250. ,    0. ,  160. ,    0. ,    2.2,\n",
       "           0. ,    1. ,    0. ,    0. ,    0. ,    0. ,    1. ]])"
      ]
     },
     "execution_count": 107,
     "metadata": {},
     "output_type": "execute_result"
    }
   ],
   "source": [
    "test[0,0]=age\n",
    "test[0,1]=sex\n",
    "test[0,2]=rest_bp\n",
    "test[0,3]=chol\n",
    "test[0,4]=fast_sugar\n",
    "test[0,5]=max_hr\n",
    "test[0,6]=ex_in\n",
    "test[0,7]=stdep\n",
    "test[0,7 + int(cpt)]=1\n",
    "test[0,12 + int(rest_ecg)]=1\n",
    "test"
   ]
  },
  {
   "cell_type": "code",
   "execution_count": 86,
   "metadata": {},
   "outputs": [],
   "source": [
    "test1.append(age)\n",
    "test1.append(sex)\n",
    "test1.append(cpt)\n",
    "test1.append(rest_bp)\n",
    "test1.append(chol)\n",
    "test1.append(fast_sugar)\n",
    "test1.append(rest_ecg)\n",
    "test1.append(max_hr)\n",
    "test1.append(ex_in)\n",
    "test1.append(stdep)"
   ]
  },
  {
   "cell_type": "code",
   "execution_count": 109,
   "metadata": {},
   "outputs": [
    {
     "data": {
      "text/plain": [
       "array([[  45. ,    1. ,  130. ,  250. ,    0. ,  160. ,    0. ,    2.2,\n",
       "           0. ,    1. ,    0. ,    0. ,    0. ,    0. ,    1. ]])"
      ]
     },
     "execution_count": 109,
     "metadata": {},
     "output_type": "execute_result"
    }
   ],
   "source": [
    "test"
   ]
  },
  {
   "cell_type": "code",
   "execution_count": 118,
   "metadata": {},
   "outputs": [],
   "source": [
    "from sklearn.preprocessing import Normalizer"
   ]
  },
  {
   "cell_type": "code",
   "execution_count": 119,
   "metadata": {},
   "outputs": [
    {
     "data": {
      "text/plain": [
       "array([[ 0.13754791,  0.00305662,  0.39736062,  0.76415504,  0.        ,\n",
       "         0.48905923,  0.        ,  0.00672456,  0.        ,  0.00305662,\n",
       "         0.        ,  0.        ,  0.        ,  0.        ,  0.00305662]])"
      ]
     },
     "execution_count": 119,
     "metadata": {},
     "output_type": "execute_result"
    }
   ],
   "source": [
    "test_std = Normalizer().fit_transform(test)\n",
    "test_std"
   ]
  },
  {
   "cell_type": "code",
   "execution_count": 121,
   "metadata": {},
   "outputs": [
    {
     "data": {
      "text/plain": [
       "0"
      ]
     },
     "execution_count": 121,
     "metadata": {},
     "output_type": "execute_result"
    }
   ],
   "source": [
    "pred = svm_clf.predict(test_std)\n",
    "pred[0]"
   ]
  },
  {
   "cell_type": "code",
   "execution_count": null,
   "metadata": {
    "collapsed": true
   },
   "outputs": [],
   "source": []
  },
  {
   "cell_type": "code",
   "execution_count": null,
   "metadata": {
    "collapsed": true
   },
   "outputs": [],
   "source": []
  },
  {
   "cell_type": "code",
   "execution_count": null,
   "metadata": {
    "collapsed": true
   },
   "outputs": [],
   "source": []
  },
  {
   "cell_type": "code",
   "execution_count": null,
   "metadata": {
    "collapsed": true
   },
   "outputs": [],
   "source": []
  },
  {
   "cell_type": "code",
   "execution_count": null,
   "metadata": {
    "collapsed": true
   },
   "outputs": [],
   "source": []
  }
 ],
 "metadata": {
  "kernelspec": {
   "display_name": "Python 3",
   "language": "python",
   "name": "python3"
  },
  "language_info": {
   "codemirror_mode": {
    "name": "ipython",
    "version": 3
   },
   "file_extension": ".py",
   "mimetype": "text/x-python",
   "name": "python",
   "nbconvert_exporter": "python",
   "pygments_lexer": "ipython3",
   "version": "3.6.3"
  }
 },
 "nbformat": 4,
 "nbformat_minor": 2
}
