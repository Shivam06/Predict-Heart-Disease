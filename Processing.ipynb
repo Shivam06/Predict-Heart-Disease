{
 "cells": [
  {
   "cell_type": "code",
   "execution_count": 1,
   "metadata": {},
   "outputs": [],
   "source": [
    "import numpy as np\n",
    "import pandas as pd\n",
    "import tensorflow as tf"
   ]
  },
  {
   "cell_type": "code",
   "execution_count": 2,
   "metadata": {},
   "outputs": [
    {
     "data": {
      "text/html": [
       "<div>\n",
       "<style>\n",
       "    .dataframe thead tr:only-child th {\n",
       "        text-align: right;\n",
       "    }\n",
       "\n",
       "    .dataframe thead th {\n",
       "        text-align: left;\n",
       "    }\n",
       "\n",
       "    .dataframe tbody tr th {\n",
       "        vertical-align: top;\n",
       "    }\n",
       "</style>\n",
       "<table border=\"1\" class=\"dataframe\">\n",
       "  <thead>\n",
       "    <tr style=\"text-align: right;\">\n",
       "      <th></th>\n",
       "      <th>Age</th>\n",
       "      <th>Sex</th>\n",
       "      <th>Resting_BP</th>\n",
       "      <th>Cholestrol_mg/dl</th>\n",
       "      <th>Fasting_sugar</th>\n",
       "      <th>Max_HR_achieved</th>\n",
       "      <th>Exercise_induced_angina</th>\n",
       "      <th>ST_depression</th>\n",
       "      <th>Chest_pain_type_1</th>\n",
       "      <th>Chest_pain_type_2</th>\n",
       "      <th>Chest_pain_type_3</th>\n",
       "      <th>Chest_pain_type_4</th>\n",
       "      <th>Resting_ECG_0</th>\n",
       "      <th>Resting_ECG_1</th>\n",
       "      <th>Resting_ECG_2</th>\n",
       "      <th>Diagnosis</th>\n",
       "    </tr>\n",
       "  </thead>\n",
       "  <tbody>\n",
       "    <tr>\n",
       "      <th>0</th>\n",
       "      <td>63</td>\n",
       "      <td>1</td>\n",
       "      <td>145</td>\n",
       "      <td>233</td>\n",
       "      <td>1</td>\n",
       "      <td>150</td>\n",
       "      <td>0</td>\n",
       "      <td>2.3</td>\n",
       "      <td>1</td>\n",
       "      <td>0</td>\n",
       "      <td>0</td>\n",
       "      <td>0</td>\n",
       "      <td>0</td>\n",
       "      <td>0</td>\n",
       "      <td>1</td>\n",
       "      <td>0</td>\n",
       "    </tr>\n",
       "    <tr>\n",
       "      <th>1</th>\n",
       "      <td>67</td>\n",
       "      <td>1</td>\n",
       "      <td>160</td>\n",
       "      <td>286</td>\n",
       "      <td>0</td>\n",
       "      <td>108</td>\n",
       "      <td>1</td>\n",
       "      <td>1.5</td>\n",
       "      <td>0</td>\n",
       "      <td>0</td>\n",
       "      <td>0</td>\n",
       "      <td>1</td>\n",
       "      <td>0</td>\n",
       "      <td>0</td>\n",
       "      <td>1</td>\n",
       "      <td>1</td>\n",
       "    </tr>\n",
       "    <tr>\n",
       "      <th>2</th>\n",
       "      <td>67</td>\n",
       "      <td>1</td>\n",
       "      <td>120</td>\n",
       "      <td>229</td>\n",
       "      <td>0</td>\n",
       "      <td>129</td>\n",
       "      <td>1</td>\n",
       "      <td>2.6</td>\n",
       "      <td>0</td>\n",
       "      <td>0</td>\n",
       "      <td>0</td>\n",
       "      <td>1</td>\n",
       "      <td>0</td>\n",
       "      <td>0</td>\n",
       "      <td>1</td>\n",
       "      <td>1</td>\n",
       "    </tr>\n",
       "    <tr>\n",
       "      <th>3</th>\n",
       "      <td>37</td>\n",
       "      <td>1</td>\n",
       "      <td>130</td>\n",
       "      <td>250</td>\n",
       "      <td>0</td>\n",
       "      <td>187</td>\n",
       "      <td>0</td>\n",
       "      <td>3.5</td>\n",
       "      <td>0</td>\n",
       "      <td>0</td>\n",
       "      <td>1</td>\n",
       "      <td>0</td>\n",
       "      <td>1</td>\n",
       "      <td>0</td>\n",
       "      <td>0</td>\n",
       "      <td>0</td>\n",
       "    </tr>\n",
       "    <tr>\n",
       "      <th>4</th>\n",
       "      <td>41</td>\n",
       "      <td>0</td>\n",
       "      <td>130</td>\n",
       "      <td>204</td>\n",
       "      <td>0</td>\n",
       "      <td>172</td>\n",
       "      <td>0</td>\n",
       "      <td>1.4</td>\n",
       "      <td>0</td>\n",
       "      <td>1</td>\n",
       "      <td>0</td>\n",
       "      <td>0</td>\n",
       "      <td>0</td>\n",
       "      <td>0</td>\n",
       "      <td>1</td>\n",
       "      <td>0</td>\n",
       "    </tr>\n",
       "  </tbody>\n",
       "</table>\n",
       "</div>"
      ],
      "text/plain": [
       "   Age  Sex  Resting_BP  Cholestrol_mg/dl  Fasting_sugar  Max_HR_achieved  \\\n",
       "0   63    1         145               233              1              150   \n",
       "1   67    1         160               286              0              108   \n",
       "2   67    1         120               229              0              129   \n",
       "3   37    1         130               250              0              187   \n",
       "4   41    0         130               204              0              172   \n",
       "\n",
       "   Exercise_induced_angina  ST_depression  Chest_pain_type_1  \\\n",
       "0                        0            2.3                  1   \n",
       "1                        1            1.5                  0   \n",
       "2                        1            2.6                  0   \n",
       "3                        0            3.5                  0   \n",
       "4                        0            1.4                  0   \n",
       "\n",
       "   Chest_pain_type_2  Chest_pain_type_3  Chest_pain_type_4  Resting_ECG_0  \\\n",
       "0                  0                  0                  0              0   \n",
       "1                  0                  0                  1              0   \n",
       "2                  0                  0                  1              0   \n",
       "3                  0                  1                  0              1   \n",
       "4                  1                  0                  0              0   \n",
       "\n",
       "   Resting_ECG_1  Resting_ECG_2  Diagnosis  \n",
       "0              0              1          0  \n",
       "1              0              1          1  \n",
       "2              0              1          1  \n",
       "3              0              0          0  \n",
       "4              0              1          0  "
      ]
     },
     "execution_count": 2,
     "metadata": {},
     "output_type": "execute_result"
    }
   ],
   "source": [
    "data = pd.read_csv(r'Main_data.csv')\n",
    "data.head()"
   ]
  },
  {
   "cell_type": "code",
   "execution_count": 5,
   "metadata": {},
   "outputs": [
    {
     "data": {
      "text/plain": [
       "0    0.579787\n",
       "1    0.420213\n",
       "Name: Diagnosis, dtype: float64"
      ]
     },
     "execution_count": 5,
     "metadata": {},
     "output_type": "execute_result"
    }
   ],
   "source": [
    "data[\"Diagnosis\"].value_counts()/(327+237)"
   ]
  },
  {
   "cell_type": "code",
   "execution_count": 7,
   "metadata": {},
   "outputs": [],
   "source": [
    "from sklearn.utils import shuffle\n",
    "data = shuffle(data)"
   ]
  },
  {
   "cell_type": "code",
   "execution_count": 8,
   "metadata": {},
   "outputs": [
    {
     "data": {
      "text/plain": [
       "Age                        0\n",
       "Sex                        0\n",
       "Resting_BP                 0\n",
       "Cholestrol_mg/dl           0\n",
       "Fasting_sugar              0\n",
       "Max_HR_achieved            0\n",
       "Exercise_induced_angina    0\n",
       "ST_depression              0\n",
       "Chest_pain_type_1          0\n",
       "Chest_pain_type_2          0\n",
       "Chest_pain_type_3          0\n",
       "Chest_pain_type_4          0\n",
       "Resting_ECG_0              0\n",
       "Resting_ECG_1              0\n",
       "Resting_ECG_2              0\n",
       "Diagnosis                  0\n",
       "dtype: int64"
      ]
     },
     "execution_count": 8,
     "metadata": {},
     "output_type": "execute_result"
    }
   ],
   "source": [
    "data.isnull().sum()"
   ]
  },
  {
   "cell_type": "code",
   "execution_count": 9,
   "metadata": {},
   "outputs": [],
   "source": [
    "from sklearn.model_selection import train_test_split\n",
    "from sklearn.preprocessing import StandardScaler\n",
    "X = data.iloc[:, 0:15].values\n",
    "y = data.iloc[:,15].values\n",
    "\n",
    "X_train, X_test, y_train, y_test = train_test_split(X, y, test_size=0.2, random_state=0)\n",
    "X_train_t, X_val, y_train_t, y_val = train_test_split(X_train, y_train, test_size = 0.25, random_state=0)\n",
    "sc = StandardScaler()\n",
    "sc.fit(X_train_t)\n",
    "X_train_t_std = sc.transform(X_train_t)\n",
    "X_val_std = sc.transform(X_val)\n",
    "X_test_std = sc.transform(X_test)"
   ]
  },
  {
   "cell_type": "code",
   "execution_count": 10,
   "metadata": {},
   "outputs": [
    {
     "name": "stderr",
     "output_type": "stream",
     "text": [
      "E:\\SHIVAM MAHAJAN\\Anaconda\\envs\\snakes\\lib\\site-packages\\sklearn\\cross_validation.py:41: DeprecationWarning: This module was deprecated in version 0.18 in favor of the model_selection module into which all the refactored classes and functions are moved. Also note that the interface of the new CV iterators are different from that of this module. This module will be removed in 0.20.\n",
      "  \"This module will be removed in 0.20.\", DeprecationWarning)\n",
      "E:\\SHIVAM MAHAJAN\\Anaconda\\envs\\snakes\\lib\\site-packages\\sklearn\\grid_search.py:42: DeprecationWarning: This module was deprecated in version 0.18 in favor of the model_selection module into which all the refactored classes and functions are moved. This module will be removed in 0.20.\n",
      "  DeprecationWarning)\n"
     ]
    }
   ],
   "source": [
    "param_grid = [\n",
    "  {'C': np.array([0.001,0.003,0.01,0.03,0.1,0.3,1,3]), 'kernel': ['linear','rbf','sigmoid'],\n",
    "  'gamma': np.array([0.001,0.003,0.01,0.03,0.1,0.3,1,3])}\n",
    " ]\n",
    "from sklearn.svm import SVC\n",
    "from sklearn.grid_search import GridSearchCV\n",
    "svm_clf = SVC()\n",
    "grid = GridSearchCV(svm_clf, param_grid, cv=10, scoring='accuracy')"
   ]
  },
  {
   "cell_type": "code",
   "execution_count": 11,
   "metadata": {},
   "outputs": [
    {
     "data": {
      "text/plain": [
       "GridSearchCV(cv=10, error_score='raise',\n",
       "       estimator=SVC(C=1.0, cache_size=200, class_weight=None, coef0=0.0,\n",
       "  decision_function_shape='ovr', degree=3, gamma='auto', kernel='rbf',\n",
       "  max_iter=-1, probability=False, random_state=None, shrinking=True,\n",
       "  tol=0.001, verbose=False),\n",
       "       fit_params={}, iid=True, n_jobs=1,\n",
       "       param_grid=[{'C': array([  1.00000e-03,   3.00000e-03,   1.00000e-02,   3.00000e-02,\n",
       "         1.00000e-01,   3.00000e-01,   1.00000e+00,   3.00000e+00]), 'kernel': ['linear', 'rbf', 'sigmoid'], 'gamma': array([  1.00000e-03,   3.00000e-03,   1.00000e-02,   3.00000e-02,\n",
       "         1.00000e-01,   3.00000e-01,   1.00000e+00,   3.00000e+00])}],\n",
       "       pre_dispatch='2*n_jobs', refit=True, scoring='accuracy', verbose=0)"
      ]
     },
     "execution_count": 11,
     "metadata": {},
     "output_type": "execute_result"
    }
   ],
   "source": [
    "grid.fit(X_train_t_std, y_train_t)"
   ]
  },
  {
   "cell_type": "code",
   "execution_count": 12,
   "metadata": {},
   "outputs": [
    {
     "data": {
      "text/plain": [
       "[mean: 0.68047, std: 0.05675, params: {'C': 0.001, 'gamma': 0.001, 'kernel': 'linear'},\n",
       " mean: 0.57396, std: 0.00212, params: {'C': 0.001, 'gamma': 0.001, 'kernel': 'rbf'},\n",
       " mean: 0.57396, std: 0.00212, params: {'C': 0.001, 'gamma': 0.001, 'kernel': 'sigmoid'},\n",
       " mean: 0.68047, std: 0.05675, params: {'C': 0.001, 'gamma': 0.0030000000000000001, 'kernel': 'linear'},\n",
       " mean: 0.57396, std: 0.00212, params: {'C': 0.001, 'gamma': 0.0030000000000000001, 'kernel': 'rbf'},\n",
       " mean: 0.57396, std: 0.00212, params: {'C': 0.001, 'gamma': 0.0030000000000000001, 'kernel': 'sigmoid'},\n",
       " mean: 0.68047, std: 0.05675, params: {'C': 0.001, 'gamma': 0.01, 'kernel': 'linear'},\n",
       " mean: 0.57396, std: 0.00212, params: {'C': 0.001, 'gamma': 0.01, 'kernel': 'rbf'},\n",
       " mean: 0.57396, std: 0.00212, params: {'C': 0.001, 'gamma': 0.01, 'kernel': 'sigmoid'},\n",
       " mean: 0.68047, std: 0.05675, params: {'C': 0.001, 'gamma': 0.029999999999999999, 'kernel': 'linear'},\n",
       " mean: 0.57396, std: 0.00212, params: {'C': 0.001, 'gamma': 0.029999999999999999, 'kernel': 'rbf'},\n",
       " mean: 0.57396, std: 0.00212, params: {'C': 0.001, 'gamma': 0.029999999999999999, 'kernel': 'sigmoid'},\n",
       " mean: 0.68047, std: 0.05675, params: {'C': 0.001, 'gamma': 0.10000000000000001, 'kernel': 'linear'},\n",
       " mean: 0.57396, std: 0.00212, params: {'C': 0.001, 'gamma': 0.10000000000000001, 'kernel': 'rbf'},\n",
       " mean: 0.57396, std: 0.00212, params: {'C': 0.001, 'gamma': 0.10000000000000001, 'kernel': 'sigmoid'},\n",
       " mean: 0.68047, std: 0.05675, params: {'C': 0.001, 'gamma': 0.29999999999999999, 'kernel': 'linear'},\n",
       " mean: 0.57396, std: 0.00212, params: {'C': 0.001, 'gamma': 0.29999999999999999, 'kernel': 'rbf'},\n",
       " mean: 0.57396, std: 0.00212, params: {'C': 0.001, 'gamma': 0.29999999999999999, 'kernel': 'sigmoid'},\n",
       " mean: 0.68047, std: 0.05675, params: {'C': 0.001, 'gamma': 1.0, 'kernel': 'linear'},\n",
       " mean: 0.57396, std: 0.00212, params: {'C': 0.001, 'gamma': 1.0, 'kernel': 'rbf'},\n",
       " mean: 0.57396, std: 0.00212, params: {'C': 0.001, 'gamma': 1.0, 'kernel': 'sigmoid'},\n",
       " mean: 0.68047, std: 0.05675, params: {'C': 0.001, 'gamma': 3.0, 'kernel': 'linear'},\n",
       " mean: 0.57396, std: 0.00212, params: {'C': 0.001, 'gamma': 3.0, 'kernel': 'rbf'},\n",
       " mean: 0.57396, std: 0.00212, params: {'C': 0.001, 'gamma': 3.0, 'kernel': 'sigmoid'},\n",
       " mean: 0.78402, std: 0.05527, params: {'C': 0.0030000000000000001, 'gamma': 0.001, 'kernel': 'linear'},\n",
       " mean: 0.57396, std: 0.00212, params: {'C': 0.0030000000000000001, 'gamma': 0.001, 'kernel': 'rbf'},\n",
       " mean: 0.57396, std: 0.00212, params: {'C': 0.0030000000000000001, 'gamma': 0.001, 'kernel': 'sigmoid'},\n",
       " mean: 0.78402, std: 0.05527, params: {'C': 0.0030000000000000001, 'gamma': 0.0030000000000000001, 'kernel': 'linear'},\n",
       " mean: 0.57396, std: 0.00212, params: {'C': 0.0030000000000000001, 'gamma': 0.0030000000000000001, 'kernel': 'rbf'},\n",
       " mean: 0.57396, std: 0.00212, params: {'C': 0.0030000000000000001, 'gamma': 0.0030000000000000001, 'kernel': 'sigmoid'},\n",
       " mean: 0.78402, std: 0.05527, params: {'C': 0.0030000000000000001, 'gamma': 0.01, 'kernel': 'linear'},\n",
       " mean: 0.57396, std: 0.00212, params: {'C': 0.0030000000000000001, 'gamma': 0.01, 'kernel': 'rbf'},\n",
       " mean: 0.57396, std: 0.00212, params: {'C': 0.0030000000000000001, 'gamma': 0.01, 'kernel': 'sigmoid'},\n",
       " mean: 0.78402, std: 0.05527, params: {'C': 0.0030000000000000001, 'gamma': 0.029999999999999999, 'kernel': 'linear'},\n",
       " mean: 0.57396, std: 0.00212, params: {'C': 0.0030000000000000001, 'gamma': 0.029999999999999999, 'kernel': 'rbf'},\n",
       " mean: 0.57396, std: 0.00212, params: {'C': 0.0030000000000000001, 'gamma': 0.029999999999999999, 'kernel': 'sigmoid'},\n",
       " mean: 0.78402, std: 0.05527, params: {'C': 0.0030000000000000001, 'gamma': 0.10000000000000001, 'kernel': 'linear'},\n",
       " mean: 0.57396, std: 0.00212, params: {'C': 0.0030000000000000001, 'gamma': 0.10000000000000001, 'kernel': 'rbf'},\n",
       " mean: 0.57396, std: 0.00212, params: {'C': 0.0030000000000000001, 'gamma': 0.10000000000000001, 'kernel': 'sigmoid'},\n",
       " mean: 0.78402, std: 0.05527, params: {'C': 0.0030000000000000001, 'gamma': 0.29999999999999999, 'kernel': 'linear'},\n",
       " mean: 0.57396, std: 0.00212, params: {'C': 0.0030000000000000001, 'gamma': 0.29999999999999999, 'kernel': 'rbf'},\n",
       " mean: 0.57396, std: 0.00212, params: {'C': 0.0030000000000000001, 'gamma': 0.29999999999999999, 'kernel': 'sigmoid'},\n",
       " mean: 0.78402, std: 0.05527, params: {'C': 0.0030000000000000001, 'gamma': 1.0, 'kernel': 'linear'},\n",
       " mean: 0.57396, std: 0.00212, params: {'C': 0.0030000000000000001, 'gamma': 1.0, 'kernel': 'rbf'},\n",
       " mean: 0.57396, std: 0.00212, params: {'C': 0.0030000000000000001, 'gamma': 1.0, 'kernel': 'sigmoid'},\n",
       " mean: 0.78402, std: 0.05527, params: {'C': 0.0030000000000000001, 'gamma': 3.0, 'kernel': 'linear'},\n",
       " mean: 0.57396, std: 0.00212, params: {'C': 0.0030000000000000001, 'gamma': 3.0, 'kernel': 'rbf'},\n",
       " mean: 0.57396, std: 0.00212, params: {'C': 0.0030000000000000001, 'gamma': 3.0, 'kernel': 'sigmoid'},\n",
       " mean: 0.77811, std: 0.06507, params: {'C': 0.01, 'gamma': 0.001, 'kernel': 'linear'},\n",
       " mean: 0.57396, std: 0.00212, params: {'C': 0.01, 'gamma': 0.001, 'kernel': 'rbf'},\n",
       " mean: 0.57396, std: 0.00212, params: {'C': 0.01, 'gamma': 0.001, 'kernel': 'sigmoid'},\n",
       " mean: 0.77811, std: 0.06507, params: {'C': 0.01, 'gamma': 0.0030000000000000001, 'kernel': 'linear'},\n",
       " mean: 0.57396, std: 0.00212, params: {'C': 0.01, 'gamma': 0.0030000000000000001, 'kernel': 'rbf'},\n",
       " mean: 0.57396, std: 0.00212, params: {'C': 0.01, 'gamma': 0.0030000000000000001, 'kernel': 'sigmoid'},\n",
       " mean: 0.77811, std: 0.06507, params: {'C': 0.01, 'gamma': 0.01, 'kernel': 'linear'},\n",
       " mean: 0.57396, std: 0.00212, params: {'C': 0.01, 'gamma': 0.01, 'kernel': 'rbf'},\n",
       " mean: 0.57396, std: 0.00212, params: {'C': 0.01, 'gamma': 0.01, 'kernel': 'sigmoid'},\n",
       " mean: 0.77811, std: 0.06507, params: {'C': 0.01, 'gamma': 0.029999999999999999, 'kernel': 'linear'},\n",
       " mean: 0.57396, std: 0.00212, params: {'C': 0.01, 'gamma': 0.029999999999999999, 'kernel': 'rbf'},\n",
       " mean: 0.57396, std: 0.00212, params: {'C': 0.01, 'gamma': 0.029999999999999999, 'kernel': 'sigmoid'},\n",
       " mean: 0.77811, std: 0.06507, params: {'C': 0.01, 'gamma': 0.10000000000000001, 'kernel': 'linear'},\n",
       " mean: 0.57396, std: 0.00212, params: {'C': 0.01, 'gamma': 0.10000000000000001, 'kernel': 'rbf'},\n",
       " mean: 0.60947, std: 0.03591, params: {'C': 0.01, 'gamma': 0.10000000000000001, 'kernel': 'sigmoid'},\n",
       " mean: 0.77811, std: 0.06507, params: {'C': 0.01, 'gamma': 0.29999999999999999, 'kernel': 'linear'},\n",
       " mean: 0.57396, std: 0.00212, params: {'C': 0.01, 'gamma': 0.29999999999999999, 'kernel': 'rbf'},\n",
       " mean: 0.78994, std: 0.06029, params: {'C': 0.01, 'gamma': 0.29999999999999999, 'kernel': 'sigmoid'},\n",
       " mean: 0.77811, std: 0.06507, params: {'C': 0.01, 'gamma': 1.0, 'kernel': 'linear'},\n",
       " mean: 0.57396, std: 0.00212, params: {'C': 0.01, 'gamma': 1.0, 'kernel': 'rbf'},\n",
       " mean: 0.79586, std: 0.05703, params: {'C': 0.01, 'gamma': 1.0, 'kernel': 'sigmoid'},\n",
       " mean: 0.77811, std: 0.06507, params: {'C': 0.01, 'gamma': 3.0, 'kernel': 'linear'},\n",
       " mean: 0.57396, std: 0.00212, params: {'C': 0.01, 'gamma': 3.0, 'kernel': 'rbf'},\n",
       " mean: 0.78698, std: 0.05801, params: {'C': 0.01, 'gamma': 3.0, 'kernel': 'sigmoid'},\n",
       " mean: 0.77811, std: 0.06533, params: {'C': 0.029999999999999999, 'gamma': 0.001, 'kernel': 'linear'},\n",
       " mean: 0.57396, std: 0.00212, params: {'C': 0.029999999999999999, 'gamma': 0.001, 'kernel': 'rbf'},\n",
       " mean: 0.57396, std: 0.00212, params: {'C': 0.029999999999999999, 'gamma': 0.001, 'kernel': 'sigmoid'},\n",
       " mean: 0.77811, std: 0.06533, params: {'C': 0.029999999999999999, 'gamma': 0.0030000000000000001, 'kernel': 'linear'},\n",
       " mean: 0.57396, std: 0.00212, params: {'C': 0.029999999999999999, 'gamma': 0.0030000000000000001, 'kernel': 'rbf'},\n",
       " mean: 0.57396, std: 0.00212, params: {'C': 0.029999999999999999, 'gamma': 0.0030000000000000001, 'kernel': 'sigmoid'},\n",
       " mean: 0.77811, std: 0.06533, params: {'C': 0.029999999999999999, 'gamma': 0.01, 'kernel': 'linear'},\n",
       " mean: 0.57396, std: 0.00212, params: {'C': 0.029999999999999999, 'gamma': 0.01, 'kernel': 'rbf'},\n",
       " mean: 0.57396, std: 0.00212, params: {'C': 0.029999999999999999, 'gamma': 0.01, 'kernel': 'sigmoid'},\n",
       " mean: 0.77811, std: 0.06533, params: {'C': 0.029999999999999999, 'gamma': 0.029999999999999999, 'kernel': 'linear'},\n",
       " mean: 0.58284, std: 0.01401, params: {'C': 0.029999999999999999, 'gamma': 0.029999999999999999, 'kernel': 'rbf'},\n",
       " mean: 0.62722, std: 0.02700, params: {'C': 0.029999999999999999, 'gamma': 0.029999999999999999, 'kernel': 'sigmoid'},\n",
       " mean: 0.77811, std: 0.06533, params: {'C': 0.029999999999999999, 'gamma': 0.10000000000000001, 'kernel': 'linear'},\n",
       " mean: 0.57396, std: 0.00212, params: {'C': 0.029999999999999999, 'gamma': 0.10000000000000001, 'kernel': 'rbf'},\n",
       " mean: 0.78402, std: 0.06086, params: {'C': 0.029999999999999999, 'gamma': 0.10000000000000001, 'kernel': 'sigmoid'},\n",
       " mean: 0.77811, std: 0.06533, params: {'C': 0.029999999999999999, 'gamma': 0.29999999999999999, 'kernel': 'linear'},\n",
       " mean: 0.57396, std: 0.00212, params: {'C': 0.029999999999999999, 'gamma': 0.29999999999999999, 'kernel': 'rbf'},\n",
       " mean: 0.78107, std: 0.06157, params: {'C': 0.029999999999999999, 'gamma': 0.29999999999999999, 'kernel': 'sigmoid'},\n",
       " mean: 0.77811, std: 0.06533, params: {'C': 0.029999999999999999, 'gamma': 1.0, 'kernel': 'linear'},\n",
       " mean: 0.57396, std: 0.00212, params: {'C': 0.029999999999999999, 'gamma': 1.0, 'kernel': 'rbf'},\n",
       " mean: 0.80473, std: 0.04783, params: {'C': 0.029999999999999999, 'gamma': 1.0, 'kernel': 'sigmoid'},\n",
       " mean: 0.77811, std: 0.06533, params: {'C': 0.029999999999999999, 'gamma': 3.0, 'kernel': 'linear'},\n",
       " mean: 0.57396, std: 0.00212, params: {'C': 0.029999999999999999, 'gamma': 3.0, 'kernel': 'rbf'},\n",
       " mean: 0.79290, std: 0.06206, params: {'C': 0.029999999999999999, 'gamma': 3.0, 'kernel': 'sigmoid'},\n",
       " mean: 0.78107, std: 0.06807, params: {'C': 0.10000000000000001, 'gamma': 0.001, 'kernel': 'linear'},\n",
       " mean: 0.57396, std: 0.00212, params: {'C': 0.10000000000000001, 'gamma': 0.001, 'kernel': 'rbf'},\n",
       " mean: 0.57396, std: 0.00212, params: {'C': 0.10000000000000001, 'gamma': 0.001, 'kernel': 'sigmoid'},\n",
       " mean: 0.78107, std: 0.06807, params: {'C': 0.10000000000000001, 'gamma': 0.0030000000000000001, 'kernel': 'linear'},\n",
       " mean: 0.57396, std: 0.00212, params: {'C': 0.10000000000000001, 'gamma': 0.0030000000000000001, 'kernel': 'rbf'},\n",
       " mean: 0.57396, std: 0.00212, params: {'C': 0.10000000000000001, 'gamma': 0.0030000000000000001, 'kernel': 'sigmoid'},\n",
       " mean: 0.78107, std: 0.06807, params: {'C': 0.10000000000000001, 'gamma': 0.01, 'kernel': 'linear'},\n",
       " mean: 0.78107, std: 0.06457, params: {'C': 0.10000000000000001, 'gamma': 0.01, 'kernel': 'rbf'},\n",
       " mean: 0.68047, std: 0.05675, params: {'C': 0.10000000000000001, 'gamma': 0.01, 'kernel': 'sigmoid'},\n",
       " mean: 0.78107, std: 0.06807, params: {'C': 0.10000000000000001, 'gamma': 0.029999999999999999, 'kernel': 'linear'},\n",
       " mean: 0.78994, std: 0.06687, params: {'C': 0.10000000000000001, 'gamma': 0.029999999999999999, 'kernel': 'rbf'},\n",
       " mean: 0.78107, std: 0.06202, params: {'C': 0.10000000000000001, 'gamma': 0.029999999999999999, 'kernel': 'sigmoid'},\n",
       " mean: 0.78107, std: 0.06807, params: {'C': 0.10000000000000001, 'gamma': 0.10000000000000001, 'kernel': 'linear'},\n",
       " mean: 0.75740, std: 0.07499, params: {'C': 0.10000000000000001, 'gamma': 0.10000000000000001, 'kernel': 'rbf'},\n",
       " mean: 0.78402, std: 0.06086, params: {'C': 0.10000000000000001, 'gamma': 0.10000000000000001, 'kernel': 'sigmoid'},\n",
       " mean: 0.78107, std: 0.06807, params: {'C': 0.10000000000000001, 'gamma': 0.29999999999999999, 'kernel': 'linear'},\n",
       " mean: 0.57988, std: 0.01313, params: {'C': 0.10000000000000001, 'gamma': 0.29999999999999999, 'kernel': 'rbf'},\n",
       " mean: 0.78402, std: 0.05408, params: {'C': 0.10000000000000001, 'gamma': 0.29999999999999999, 'kernel': 'sigmoid'},\n",
       " mean: 0.78107, std: 0.06807, params: {'C': 0.10000000000000001, 'gamma': 1.0, 'kernel': 'linear'},\n",
       " mean: 0.57396, std: 0.00212, params: {'C': 0.10000000000000001, 'gamma': 1.0, 'kernel': 'rbf'},\n",
       " mean: 0.75444, std: 0.06138, params: {'C': 0.10000000000000001, 'gamma': 1.0, 'kernel': 'sigmoid'},\n",
       " mean: 0.78107, std: 0.06807, params: {'C': 0.10000000000000001, 'gamma': 3.0, 'kernel': 'linear'},\n",
       " mean: 0.57396, std: 0.00212, params: {'C': 0.10000000000000001, 'gamma': 3.0, 'kernel': 'rbf'},\n",
       " mean: 0.75444, std: 0.05477, params: {'C': 0.10000000000000001, 'gamma': 3.0, 'kernel': 'sigmoid'},\n",
       " mean: 0.76036, std: 0.08722, params: {'C': 0.29999999999999999, 'gamma': 0.001, 'kernel': 'linear'},\n",
       " mean: 0.57396, std: 0.00212, params: {'C': 0.29999999999999999, 'gamma': 0.001, 'kernel': 'rbf'},\n",
       " mean: 0.57396, std: 0.00212, params: {'C': 0.29999999999999999, 'gamma': 0.001, 'kernel': 'sigmoid'},\n",
       " mean: 0.76036, std: 0.08722, params: {'C': 0.29999999999999999, 'gamma': 0.0030000000000000001, 'kernel': 'linear'},\n",
       " mean: 0.78402, std: 0.06748, params: {'C': 0.29999999999999999, 'gamma': 0.0030000000000000001, 'kernel': 'rbf'},\n",
       " mean: 0.63905, std: 0.03110, params: {'C': 0.29999999999999999, 'gamma': 0.0030000000000000001, 'kernel': 'sigmoid'},\n",
       " mean: 0.76036, std: 0.08722, params: {'C': 0.29999999999999999, 'gamma': 0.01, 'kernel': 'linear'},\n",
       " mean: 0.77811, std: 0.06085, params: {'C': 0.29999999999999999, 'gamma': 0.01, 'kernel': 'rbf'},\n",
       " mean: 0.78402, std: 0.05527, params: {'C': 0.29999999999999999, 'gamma': 0.01, 'kernel': 'sigmoid'},\n",
       " mean: 0.76036, std: 0.08722, params: {'C': 0.29999999999999999, 'gamma': 0.029999999999999999, 'kernel': 'linear'},\n",
       " mean: 0.77219, std: 0.05636, params: {'C': 0.29999999999999999, 'gamma': 0.029999999999999999, 'kernel': 'rbf'},\n",
       " mean: 0.77515, std: 0.06799, params: {'C': 0.29999999999999999, 'gamma': 0.029999999999999999, 'kernel': 'sigmoid'},\n",
       " mean: 0.76036, std: 0.08722, params: {'C': 0.29999999999999999, 'gamma': 0.10000000000000001, 'kernel': 'linear'},\n",
       " mean: 0.76923, std: 0.05549, params: {'C': 0.29999999999999999, 'gamma': 0.10000000000000001, 'kernel': 'rbf'},\n",
       " mean: 0.79882, std: 0.05520, params: {'C': 0.29999999999999999, 'gamma': 0.10000000000000001, 'kernel': 'sigmoid'},\n",
       " mean: 0.76036, std: 0.08722, params: {'C': 0.29999999999999999, 'gamma': 0.29999999999999999, 'kernel': 'linear'},\n",
       " mean: 0.69527, std: 0.06385, params: {'C': 0.29999999999999999, 'gamma': 0.29999999999999999, 'kernel': 'rbf'},\n",
       " mean: 0.75740, std: 0.06134, params: {'C': 0.29999999999999999, 'gamma': 0.29999999999999999, 'kernel': 'sigmoid'},\n",
       " mean: 0.76036, std: 0.08722, params: {'C': 0.29999999999999999, 'gamma': 1.0, 'kernel': 'linear'},\n",
       " mean: 0.57396, std: 0.00212, params: {'C': 0.29999999999999999, 'gamma': 1.0, 'kernel': 'rbf'},\n",
       " mean: 0.71893, std: 0.06193, params: {'C': 0.29999999999999999, 'gamma': 1.0, 'kernel': 'sigmoid'},\n",
       " mean: 0.76036, std: 0.08722, params: {'C': 0.29999999999999999, 'gamma': 3.0, 'kernel': 'linear'},\n",
       " mean: 0.57396, std: 0.00212, params: {'C': 0.29999999999999999, 'gamma': 3.0, 'kernel': 'rbf'},\n",
       " mean: 0.69822, std: 0.07110, params: {'C': 0.29999999999999999, 'gamma': 3.0, 'kernel': 'sigmoid'},\n",
       " mean: 0.76923, std: 0.07413, params: {'C': 1.0, 'gamma': 0.001, 'kernel': 'linear'},\n",
       " mean: 0.79586, std: 0.06567, params: {'C': 1.0, 'gamma': 0.001, 'kernel': 'rbf'},\n",
       " mean: 0.68047, std: 0.05675, params: {'C': 1.0, 'gamma': 0.001, 'kernel': 'sigmoid'},\n",
       " mean: 0.76923, std: 0.07413, params: {'C': 1.0, 'gamma': 0.0030000000000000001, 'kernel': 'linear'},\n",
       " mean: 0.77811, std: 0.05988, params: {'C': 1.0, 'gamma': 0.0030000000000000001, 'kernel': 'rbf'},\n",
       " mean: 0.78402, std: 0.05527, params: {'C': 1.0, 'gamma': 0.0030000000000000001, 'kernel': 'sigmoid'},\n",
       " mean: 0.76923, std: 0.07413, params: {'C': 1.0, 'gamma': 0.01, 'kernel': 'linear'},\n",
       " mean: 0.78994, std: 0.05480, params: {'C': 1.0, 'gamma': 0.01, 'kernel': 'rbf'},\n",
       " mean: 0.77515, std: 0.06799, params: {'C': 1.0, 'gamma': 0.01, 'kernel': 'sigmoid'},\n",
       " mean: 0.76923, std: 0.07413, params: {'C': 1.0, 'gamma': 0.029999999999999999, 'kernel': 'linear'},\n",
       " mean: 0.79290, std: 0.05920, params: {'C': 1.0, 'gamma': 0.029999999999999999, 'kernel': 'rbf'},\n",
       " mean: 0.77811, std: 0.06744, params: {'C': 1.0, 'gamma': 0.029999999999999999, 'kernel': 'sigmoid'},\n",
       " mean: 0.76923, std: 0.07413, params: {'C': 1.0, 'gamma': 0.10000000000000001, 'kernel': 'linear'},\n",
       " mean: 0.76331, std: 0.05798, params: {'C': 1.0, 'gamma': 0.10000000000000001, 'kernel': 'rbf'},\n",
       " mean: 0.78698, std: 0.06423, params: {'C': 1.0, 'gamma': 0.10000000000000001, 'kernel': 'sigmoid'},\n",
       " mean: 0.76923, std: 0.07413, params: {'C': 1.0, 'gamma': 0.29999999999999999, 'kernel': 'linear'},\n",
       " mean: 0.70414, std: 0.05821, params: {'C': 1.0, 'gamma': 0.29999999999999999, 'kernel': 'rbf'},\n",
       " mean: 0.73077, std: 0.06767, params: {'C': 1.0, 'gamma': 0.29999999999999999, 'kernel': 'sigmoid'},\n",
       " mean: 0.76923, std: 0.07413, params: {'C': 1.0, 'gamma': 1.0, 'kernel': 'linear'},\n",
       " mean: 0.65385, std: 0.04587, params: {'C': 1.0, 'gamma': 1.0, 'kernel': 'rbf'},\n",
       " mean: 0.69527, std: 0.06574, params: {'C': 1.0, 'gamma': 1.0, 'kernel': 'sigmoid'},\n",
       " mean: 0.76923, std: 0.07413, params: {'C': 1.0, 'gamma': 3.0, 'kernel': 'linear'},\n",
       " mean: 0.57988, std: 0.02351, params: {'C': 1.0, 'gamma': 3.0, 'kernel': 'rbf'},\n",
       " mean: 0.67751, std: 0.06999, params: {'C': 1.0, 'gamma': 3.0, 'kernel': 'sigmoid'},\n",
       " mean: 0.76331, std: 0.08071, params: {'C': 3.0, 'gamma': 0.001, 'kernel': 'linear'},\n",
       " mean: 0.78107, std: 0.05798, params: {'C': 3.0, 'gamma': 0.001, 'kernel': 'rbf'},\n",
       " mean: 0.78402, std: 0.05527, params: {'C': 3.0, 'gamma': 0.001, 'kernel': 'sigmoid'},\n",
       " mean: 0.76331, std: 0.08071, params: {'C': 3.0, 'gamma': 0.0030000000000000001, 'kernel': 'linear'},\n",
       " mean: 0.78402, std: 0.06675, params: {'C': 3.0, 'gamma': 0.0030000000000000001, 'kernel': 'rbf'},\n",
       " mean: 0.77515, std: 0.06799, params: {'C': 3.0, 'gamma': 0.0030000000000000001, 'kernel': 'sigmoid'},\n",
       " mean: 0.76331, std: 0.08071, params: {'C': 3.0, 'gamma': 0.01, 'kernel': 'linear'},\n",
       " mean: 0.79586, std: 0.05809, params: {'C': 3.0, 'gamma': 0.01, 'kernel': 'rbf'},\n",
       " mean: 0.77811, std: 0.06533, params: {'C': 3.0, 'gamma': 0.01, 'kernel': 'sigmoid'},\n",
       " mean: 0.76331, std: 0.08071, params: {'C': 3.0, 'gamma': 0.029999999999999999, 'kernel': 'linear'},\n",
       " mean: 0.77219, std: 0.07497, params: {'C': 3.0, 'gamma': 0.029999999999999999, 'kernel': 'rbf'},\n",
       " mean: 0.79290, std: 0.06510, params: {'C': 3.0, 'gamma': 0.029999999999999999, 'kernel': 'sigmoid'},\n",
       " mean: 0.76331, std: 0.08071, params: {'C': 3.0, 'gamma': 0.10000000000000001, 'kernel': 'linear'},\n",
       " mean: 0.73964, std: 0.05705, params: {'C': 3.0, 'gamma': 0.10000000000000001, 'kernel': 'rbf'},\n",
       " mean: 0.72189, std: 0.06340, params: {'C': 3.0, 'gamma': 0.10000000000000001, 'kernel': 'sigmoid'},\n",
       " mean: 0.76331, std: 0.08071, params: {'C': 3.0, 'gamma': 0.29999999999999999, 'kernel': 'linear'},\n",
       " mean: 0.66864, std: 0.05501, params: {'C': 3.0, 'gamma': 0.29999999999999999, 'kernel': 'rbf'},\n",
       " mean: 0.74852, std: 0.07207, params: {'C': 3.0, 'gamma': 0.29999999999999999, 'kernel': 'sigmoid'},\n",
       " mean: 0.76331, std: 0.08071, params: {'C': 3.0, 'gamma': 1.0, 'kernel': 'linear'},\n",
       " mean: 0.65976, std: 0.05815, params: {'C': 3.0, 'gamma': 1.0, 'kernel': 'rbf'},\n",
       " mean: 0.70414, std: 0.06707, params: {'C': 3.0, 'gamma': 1.0, 'kernel': 'sigmoid'},\n",
       " mean: 0.76331, std: 0.08071, params: {'C': 3.0, 'gamma': 3.0, 'kernel': 'linear'},\n",
       " mean: 0.57692, std: 0.03693, params: {'C': 3.0, 'gamma': 3.0, 'kernel': 'rbf'},\n",
       " mean: 0.67160, std: 0.06860, params: {'C': 3.0, 'gamma': 3.0, 'kernel': 'sigmoid'}]"
      ]
     },
     "execution_count": 12,
     "metadata": {},
     "output_type": "execute_result"
    }
   ],
   "source": [
    "grid.grid_scores_"
   ]
  },
  {
   "cell_type": "code",
   "execution_count": 13,
   "metadata": {},
   "outputs": [
    {
     "data": {
      "text/plain": [
       "{'C': 0.029999999999999999, 'gamma': 1.0, 'kernel': 'sigmoid'}"
      ]
     },
     "execution_count": 13,
     "metadata": {},
     "output_type": "execute_result"
    }
   ],
   "source": [
    "grid.best_params_"
   ]
  },
  {
   "cell_type": "code",
   "execution_count": 26,
   "metadata": {},
   "outputs": [
    {
     "data": {
      "text/plain": [
       "0.84070796460176989"
      ]
     },
     "execution_count": 26,
     "metadata": {},
     "output_type": "execute_result"
    }
   ],
   "source": [
    "from sklearn.metrics import accuracy_score\n",
    "svm_clf = SVC(C=3, kernel ='rbf', gamma = 0.003, probability=True)\n",
    "svm_clf.fit(X_train_t_std, y_train_t)\n",
    "y_pred_val = svm_clf.predict(X_val_std)\n",
    "accuracy_score(y_pred_val, y_val)"
   ]
  },
  {
   "cell_type": "code",
   "execution_count": 35,
   "metadata": {},
   "outputs": [
    {
     "data": {
      "text/plain": [
       "0.78761061946902655"
      ]
     },
     "execution_count": 35,
     "metadata": {},
     "output_type": "execute_result"
    }
   ],
   "source": [
    "y_pred_test = svm_clf.predict(X_test_std)\n",
    "y_test_prob = np.array(svm_clf.predict_proba(X_test_std)[:,1])\n",
    "accuracy_score(y_pred_test, y_test)"
   ]
  },
  {
   "cell_type": "code",
   "execution_count": 47,
   "metadata": {},
   "outputs": [
    {
     "data": {
      "text/plain": [
       "array([1, 1, 0, 0, 0, 0, 1, 1, 1, 1, 0, 0, 1, 1, 1, 0, 1, 0, 0, 1, 0, 0, 1,\n",
       "       0, 1, 0, 0, 0, 0, 1, 0, 0, 1, 0, 1, 1, 1, 1, 1, 1, 0, 1, 1, 1, 1, 0,\n",
       "       0, 1, 1, 0, 0, 0, 0, 0, 0, 0, 0, 1, 0, 1, 0, 0, 0, 1, 1, 1, 0, 0, 0,\n",
       "       1, 0, 1, 0, 1, 1, 1, 1, 0, 0, 1, 0, 0, 0, 0, 0, 1, 0, 1, 1, 0, 1, 0,\n",
       "       0, 1, 0, 0, 0, 1, 1, 0, 1, 1, 1, 1, 0, 0, 0, 1, 0, 0, 1, 1, 1])"
      ]
     },
     "execution_count": 47,
     "metadata": {},
     "output_type": "execute_result"
    }
   ],
   "source": [
    "y_pred = np.array(y_test_prob>0.4,dtype=np.int)\n",
    "y_pred"
   ]
  },
  {
   "cell_type": "code",
   "execution_count": 46,
   "metadata": {},
   "outputs": [
    {
     "data": {
      "text/plain": [
       "0.65486725663716816"
      ]
     },
     "execution_count": 46,
     "metadata": {},
     "output_type": "execute_result"
    }
   ],
   "source": [
    "accuracy_score(y_pred, y_test)"
   ]
  },
  {
   "cell_type": "code",
   "execution_count": 44,
   "metadata": {},
   "outputs": [
    {
     "data": {
      "text/plain": [
       "0.35398230088495575"
      ]
     },
     "execution_count": 44,
     "metadata": {},
     "output_type": "execute_result"
    }
   ],
   "source": [
    "np.sum(y_test)/len(y_test)"
   ]
  },
  {
   "cell_type": "code",
   "execution_count": 52,
   "metadata": {},
   "outputs": [],
   "source": [
    "import matplotlib.pyplot as plt\n",
    "from sklearn.metrics import roc_curve, roc_auc_score\n",
    "tpr, fpr, thresholds = roc_curve(y_test, y_test_prob)\n",
    "plt.plot(tpr,fpr)\n",
    "plt.xlim([0.0, 1.0])\n",
    "plt.ylim([0.0, 1.0])\n",
    "plt.title('ROC curve for diabetes classifier')\n",
    "plt.xlabel('False Positive Rate (1 - Specificity)')\n",
    "plt.ylabel('True Positive Rate (Sensitivity)')\n",
    "plt.grid(True)"
   ]
  },
  {
   "cell_type": "code",
   "execution_count": 53,
   "metadata": {},
   "outputs": [
    {
     "data": {
      "image/png": "[encoded data removed]",
      "text/plain": [
       "<matplotlib.figure.Figure at 0x220eacd8e10>"
      ]
     },
     "metadata": {},
     "output_type": "display_data"
    }
   ],
   "source": [
    "plt.show()"
   ]
  },
  {
   "cell_type": "code",
   "execution_count": 55,
   "metadata": {},
   "outputs": [
    {
     "data": {
      "text/plain": [
       "0.83356164383561637"
      ]
     },
     "execution_count": 55,
     "metadata": {},
     "output_type": "execute_result"
    }
   ],
   "source": [
    "roc_auc_score(y_test,y_test_prob)"
   ]
  },
  {
   "cell_type": "code",
   "execution_count": 69,
   "metadata": {},
   "outputs": [],
   "source": [
    "from sklearn.preprocessing import binarize\n",
    "from sklearn.metrics import confusion_matrix, recall_score\n",
    "def evaluate_score(threshold):\n",
    "    ypred_class = binarize([y_test_prob],threshold)\n",
    "    ypred_class = ypred_class[0]\n",
    "    confusion = confusion_matrix(y_test,ypred_class)\n",
    "    tpr = recall_score(y_test,ypred_class)\n",
    "    fpr = confusion[0,1]/float(confusion[0,1] + confusion[0,0])\n",
    "    print(\"Senstivty:\", tpr)\n",
    "    print(\"Specificity :\", 1-fpr)"
   ]
  },
  {
   "cell_type": "code",
   "execution_count": 78,
   "metadata": {},
   "outputs": [
    {
     "name": "stdout",
     "output_type": "stream",
     "text": [
      "Senstivty: 0.75\n",
      "Specificity : 0.86301369863\n"
     ]
    }
   ],
   "source": [
    "evaluate_score(0.55)"
   ]
  },
  {
   "cell_type": "code",
   "execution_count": null,
   "metadata": {},
   "outputs": [],
   "source": []
  }
 ],
 "metadata": {
  "kernelspec": {
   "display_name": "Python 3",
   "language": "python",
   "name": "python3"
  },
  "language_info": {
   "codemirror_mode": {
    "name": "ipython",
    "version": 3
   },
   "file_extension": ".py",
   "mimetype": "text/x-python",
   "name": "python",
   "nbconvert_exporter": "python",
   "pygments_lexer": "ipython3",
   "version": "3.6.2"
  }
 },
 "nbformat": 4,
 "nbformat_minor": 2
}
