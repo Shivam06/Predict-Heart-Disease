{
 "cells": [
  {
   "cell_type": "code",
   "execution_count": 116,
   "metadata": {},
   "outputs": [],
   "source": [
    "import numpy as np\n",
    "import pandas as pd\n",
    "import tensorflow as tf"
   ]
  },
  {
   "cell_type": "code",
   "execution_count": 152,
   "metadata": {},
   "outputs": [
    {
     "data": {
      "text/html": [
       "<div>\n",
       "<style>\n",
       "    .dataframe thead tr:only-child th {\n",
       "        text-align: right;\n",
       "    }\n",
       "\n",
       "    .dataframe thead th {\n",
       "        text-align: left;\n",
       "    }\n",
       "\n",
       "    .dataframe tbody tr th {\n",
       "        vertical-align: top;\n",
       "    }\n",
       "</style>\n",
       "<table border=\"1\" class=\"dataframe\">\n",
       "  <thead>\n",
       "    <tr style=\"text-align: right;\">\n",
       "      <th></th>\n",
       "      <th>Unnamed: 0</th>\n",
       "      <th>Age</th>\n",
       "      <th>Sex</th>\n",
       "      <th>Resting_BP</th>\n",
       "      <th>Cholestrol_mg/dl</th>\n",
       "      <th>Fasting_sugar</th>\n",
       "      <th>Resting_ECG</th>\n",
       "      <th>Max_HR_achieved</th>\n",
       "      <th>Exercise_induced_angina</th>\n",
       "      <th>ST_depression</th>\n",
       "      <th>Chest_pain_type_1</th>\n",
       "      <th>Chest_pain_type_2</th>\n",
       "      <th>Chest_pain_type_3</th>\n",
       "      <th>Chest_pain_type_4</th>\n",
       "      <th>Diagnosis</th>\n",
       "    </tr>\n",
       "  </thead>\n",
       "  <tbody>\n",
       "    <tr>\n",
       "      <th>0</th>\n",
       "      <td>0</td>\n",
       "      <td>63</td>\n",
       "      <td>1</td>\n",
       "      <td>145</td>\n",
       "      <td>233</td>\n",
       "      <td>1</td>\n",
       "      <td>2</td>\n",
       "      <td>150</td>\n",
       "      <td>0</td>\n",
       "      <td>2.3</td>\n",
       "      <td>1</td>\n",
       "      <td>0</td>\n",
       "      <td>0</td>\n",
       "      <td>0</td>\n",
       "      <td>0</td>\n",
       "    </tr>\n",
       "    <tr>\n",
       "      <th>1</th>\n",
       "      <td>1</td>\n",
       "      <td>67</td>\n",
       "      <td>1</td>\n",
       "      <td>160</td>\n",
       "      <td>286</td>\n",
       "      <td>0</td>\n",
       "      <td>2</td>\n",
       "      <td>108</td>\n",
       "      <td>1</td>\n",
       "      <td>1.5</td>\n",
       "      <td>0</td>\n",
       "      <td>0</td>\n",
       "      <td>0</td>\n",
       "      <td>1</td>\n",
       "      <td>1</td>\n",
       "    </tr>\n",
       "    <tr>\n",
       "      <th>2</th>\n",
       "      <td>2</td>\n",
       "      <td>67</td>\n",
       "      <td>1</td>\n",
       "      <td>120</td>\n",
       "      <td>229</td>\n",
       "      <td>0</td>\n",
       "      <td>2</td>\n",
       "      <td>129</td>\n",
       "      <td>1</td>\n",
       "      <td>2.6</td>\n",
       "      <td>0</td>\n",
       "      <td>0</td>\n",
       "      <td>0</td>\n",
       "      <td>1</td>\n",
       "      <td>1</td>\n",
       "    </tr>\n",
       "    <tr>\n",
       "      <th>3</th>\n",
       "      <td>3</td>\n",
       "      <td>37</td>\n",
       "      <td>1</td>\n",
       "      <td>130</td>\n",
       "      <td>250</td>\n",
       "      <td>0</td>\n",
       "      <td>0</td>\n",
       "      <td>187</td>\n",
       "      <td>0</td>\n",
       "      <td>3.5</td>\n",
       "      <td>0</td>\n",
       "      <td>0</td>\n",
       "      <td>1</td>\n",
       "      <td>0</td>\n",
       "      <td>0</td>\n",
       "    </tr>\n",
       "    <tr>\n",
       "      <th>4</th>\n",
       "      <td>4</td>\n",
       "      <td>41</td>\n",
       "      <td>0</td>\n",
       "      <td>130</td>\n",
       "      <td>204</td>\n",
       "      <td>0</td>\n",
       "      <td>2</td>\n",
       "      <td>172</td>\n",
       "      <td>0</td>\n",
       "      <td>1.4</td>\n",
       "      <td>0</td>\n",
       "      <td>1</td>\n",
       "      <td>0</td>\n",
       "      <td>0</td>\n",
       "      <td>0</td>\n",
       "    </tr>\n",
       "  </tbody>\n",
       "</table>\n",
       "</div>"
      ],
      "text/plain": [
       "   Unnamed: 0  Age  Sex  Resting_BP  Cholestrol_mg/dl  Fasting_sugar  \\\n",
       "0           0   63    1         145               233              1   \n",
       "1           1   67    1         160               286              0   \n",
       "2           2   67    1         120               229              0   \n",
       "3           3   37    1         130               250              0   \n",
       "4           4   41    0         130               204              0   \n",
       "\n",
       "   Resting_ECG  Max_HR_achieved  Exercise_induced_angina  ST_depression  \\\n",
       "0            2              150                        0            2.3   \n",
       "1            2              108                        1            1.5   \n",
       "2            2              129                        1            2.6   \n",
       "3            0              187                        0            3.5   \n",
       "4            2              172                        0            1.4   \n",
       "\n",
       "   Chest_pain_type_1  Chest_pain_type_2  Chest_pain_type_3  Chest_pain_type_4  \\\n",
       "0                  1                  0                  0                  0   \n",
       "1                  0                  0                  0                  1   \n",
       "2                  0                  0                  0                  1   \n",
       "3                  0                  0                  1                  0   \n",
       "4                  0                  1                  0                  0   \n",
       "\n",
       "   Diagnosis  \n",
       "0          0  \n",
       "1          1  \n",
       "2          1  \n",
       "3          0  \n",
       "4          0  "
      ]
     },
     "execution_count": 152,
     "metadata": {},
     "output_type": "execute_result"
    }
   ],
   "source": [
    "data = pd.read_csv(r'Main_data.csv')\n",
    "data.head()"
   ]
  },
  {
   "cell_type": "code",
   "execution_count": 153,
   "metadata": {},
   "outputs": [
    {
     "data": {
      "text/plain": [
       "(564, 15)"
      ]
     },
     "execution_count": 153,
     "metadata": {},
     "output_type": "execute_result"
    }
   ],
   "source": [
    "data.shape"
   ]
  },
  {
   "cell_type": "code",
   "execution_count": 154,
   "metadata": {},
   "outputs": [
    {
     "data": {
      "text/plain": [
       "Unnamed: 0                 0\n",
       "Age                        0\n",
       "Sex                        0\n",
       "Resting_BP                 0\n",
       "Cholestrol_mg/dl           0\n",
       "Fasting_sugar              0\n",
       "Resting_ECG                0\n",
       "Max_HR_achieved            0\n",
       "Exercise_induced_angina    0\n",
       "ST_depression              0\n",
       "Chest_pain_type_1          0\n",
       "Chest_pain_type_2          0\n",
       "Chest_pain_type_3          0\n",
       "Chest_pain_type_4          0\n",
       "Diagnosis                  0\n",
       "dtype: int64"
      ]
     },
     "execution_count": 154,
     "metadata": {},
     "output_type": "execute_result"
    }
   ],
   "source": [
    "data.isnull().sum()"
   ]
  },
  {
   "cell_type": "code",
   "execution_count": 155,
   "metadata": {},
   "outputs": [],
   "source": [
    "from sklearn.model_selection import train_test_split\n",
    "from sklearn.preprocessing import StandardScaler\n",
    "X = data.iloc[:, 0:14].values\n",
    "y = data.iloc[:,14].values\n",
    "\n",
    "X_train, X_test, y_train, y_test = train_test_split(X, y, test_size=0.2, random_state=0)\n",
    "X_train_t, X_val, y_train_t, y_val = train_test_split(X_train, y_train, test_size = 0.25, random_state=0)\n",
    "sc = StandardScaler()\n",
    "sc.fit(X_train_t)\n",
    "X_train_t_std = sc.transform(X_train_t)\n",
    "X_val_std = sc.transform(X_val)\n",
    "X_test_std = sc.transform(X_test)"
   ]
  },
  {
   "cell_type": "code",
   "execution_count": 156,
   "metadata": {},
   "outputs": [],
   "source": [
    "param_grid = [\n",
    "  {'C': np.array([0.001,0.003,0.01,0.03,0.1,0.3,1,3]), 'kernel': ['linear','rbf','sigmoid'],\n",
    "  'gamma': np.array([0.001,0.003,0.01,0.03,0.1,0.3,1,3])}\n",
    " ]\n",
    "from sklearn.svm import SVC\n",
    "from sklearn.grid_search import GridSearchCV\n",
    "svm_clf = SVC()\n",
    "grid = GridSearchCV(svm_clf, param_grid, cv=10, scoring='accuracy')"
   ]
  },
  {
   "cell_type": "code",
   "execution_count": 157,
   "metadata": {},
   "outputs": [
    {
     "data": {
      "text/plain": [
       "GridSearchCV(cv=10, error_score='raise',\n",
       "       estimator=SVC(C=1.0, cache_size=200, class_weight=None, coef0=0.0,\n",
       "  decision_function_shape='ovr', degree=3, gamma='auto', kernel='rbf',\n",
       "  max_iter=-1, probability=False, random_state=None, shrinking=True,\n",
       "  tol=0.001, verbose=False),\n",
       "       fit_params={}, iid=True, n_jobs=1,\n",
       "       param_grid=[{'C': array([  1.00000e-03,   3.00000e-03,   1.00000e-02,   3.00000e-02,\n",
       "         1.00000e-01,   3.00000e-01,   1.00000e+00,   3.00000e+00]), 'kernel': ['linear', 'rbf', 'sigmoid'], 'gamma': array([  1.00000e-03,   3.00000e-03,   1.00000e-02,   3.00000e-02,\n",
       "         1.00000e-01,   3.00000e-01,   1.00000e+00,   3.00000e+00])}],\n",
       "       pre_dispatch='2*n_jobs', refit=True, scoring='accuracy', verbose=0)"
      ]
     },
     "execution_count": 157,
     "metadata": {},
     "output_type": "execute_result"
    }
   ],
   "source": [
    "grid.fit(X_train_t_std, y_train_t)"
   ]
  },
  {
   "cell_type": "code",
   "execution_count": 158,
   "metadata": {},
   "outputs": [
    {
     "data": {
      "text/plain": [
       "[mean: 0.60059, std: 0.01675, params: {'C': 0.001, 'gamma': 0.001, 'kernel': 'linear'},\n",
       " mean: 0.59172, std: 0.00713, params: {'C': 0.001, 'gamma': 0.001, 'kernel': 'rbf'},\n",
       " mean: 0.59172, std: 0.00713, params: {'C': 0.001, 'gamma': 0.001, 'kernel': 'sigmoid'},\n",
       " mean: 0.60059, std: 0.01675, params: {'C': 0.001, 'gamma': 0.0030000000000000001, 'kernel': 'linear'},\n",
       " mean: 0.59172, std: 0.00713, params: {'C': 0.001, 'gamma': 0.0030000000000000001, 'kernel': 'rbf'},\n",
       " mean: 0.59172, std: 0.00713, params: {'C': 0.001, 'gamma': 0.0030000000000000001, 'kernel': 'sigmoid'},\n",
       " mean: 0.60059, std: 0.01675, params: {'C': 0.001, 'gamma': 0.01, 'kernel': 'linear'},\n",
       " mean: 0.59172, std: 0.00713, params: {'C': 0.001, 'gamma': 0.01, 'kernel': 'rbf'},\n",
       " mean: 0.59172, std: 0.00713, params: {'C': 0.001, 'gamma': 0.01, 'kernel': 'sigmoid'},\n",
       " mean: 0.60059, std: 0.01675, params: {'C': 0.001, 'gamma': 0.029999999999999999, 'kernel': 'linear'},\n",
       " mean: 0.59172, std: 0.00713, params: {'C': 0.001, 'gamma': 0.029999999999999999, 'kernel': 'rbf'},\n",
       " mean: 0.59172, std: 0.00713, params: {'C': 0.001, 'gamma': 0.029999999999999999, 'kernel': 'sigmoid'},\n",
       " mean: 0.60059, std: 0.01675, params: {'C': 0.001, 'gamma': 0.10000000000000001, 'kernel': 'linear'},\n",
       " mean: 0.59172, std: 0.00713, params: {'C': 0.001, 'gamma': 0.10000000000000001, 'kernel': 'rbf'},\n",
       " mean: 0.59172, std: 0.00713, params: {'C': 0.001, 'gamma': 0.10000000000000001, 'kernel': 'sigmoid'},\n",
       " mean: 0.60059, std: 0.01675, params: {'C': 0.001, 'gamma': 0.29999999999999999, 'kernel': 'linear'},\n",
       " mean: 0.59172, std: 0.00713, params: {'C': 0.001, 'gamma': 0.29999999999999999, 'kernel': 'rbf'},\n",
       " mean: 0.59172, std: 0.00713, params: {'C': 0.001, 'gamma': 0.29999999999999999, 'kernel': 'sigmoid'},\n",
       " mean: 0.60059, std: 0.01675, params: {'C': 0.001, 'gamma': 1.0, 'kernel': 'linear'},\n",
       " mean: 0.59172, std: 0.00713, params: {'C': 0.001, 'gamma': 1.0, 'kernel': 'rbf'},\n",
       " mean: 0.59172, std: 0.00713, params: {'C': 0.001, 'gamma': 1.0, 'kernel': 'sigmoid'},\n",
       " mean: 0.60059, std: 0.01675, params: {'C': 0.001, 'gamma': 3.0, 'kernel': 'linear'},\n",
       " mean: 0.59172, std: 0.00713, params: {'C': 0.001, 'gamma': 3.0, 'kernel': 'rbf'},\n",
       " mean: 0.59172, std: 0.00713, params: {'C': 0.001, 'gamma': 3.0, 'kernel': 'sigmoid'},\n",
       " mean: 0.81065, std: 0.06641, params: {'C': 0.0030000000000000001, 'gamma': 0.001, 'kernel': 'linear'},\n",
       " mean: 0.59172, std: 0.00713, params: {'C': 0.0030000000000000001, 'gamma': 0.001, 'kernel': 'rbf'},\n",
       " mean: 0.59172, std: 0.00713, params: {'C': 0.0030000000000000001, 'gamma': 0.001, 'kernel': 'sigmoid'},\n",
       " mean: 0.81065, std: 0.06641, params: {'C': 0.0030000000000000001, 'gamma': 0.0030000000000000001, 'kernel': 'linear'},\n",
       " mean: 0.59172, std: 0.00713, params: {'C': 0.0030000000000000001, 'gamma': 0.0030000000000000001, 'kernel': 'rbf'},\n",
       " mean: 0.59172, std: 0.00713, params: {'C': 0.0030000000000000001, 'gamma': 0.0030000000000000001, 'kernel': 'sigmoid'},\n",
       " mean: 0.81065, std: 0.06641, params: {'C': 0.0030000000000000001, 'gamma': 0.01, 'kernel': 'linear'},\n",
       " mean: 0.59172, std: 0.00713, params: {'C': 0.0030000000000000001, 'gamma': 0.01, 'kernel': 'rbf'},\n",
       " mean: 0.59172, std: 0.00713, params: {'C': 0.0030000000000000001, 'gamma': 0.01, 'kernel': 'sigmoid'},\n",
       " mean: 0.81065, std: 0.06641, params: {'C': 0.0030000000000000001, 'gamma': 0.029999999999999999, 'kernel': 'linear'},\n",
       " mean: 0.59172, std: 0.00713, params: {'C': 0.0030000000000000001, 'gamma': 0.029999999999999999, 'kernel': 'rbf'},\n",
       " mean: 0.59172, std: 0.00713, params: {'C': 0.0030000000000000001, 'gamma': 0.029999999999999999, 'kernel': 'sigmoid'},\n",
       " mean: 0.81065, std: 0.06641, params: {'C': 0.0030000000000000001, 'gamma': 0.10000000000000001, 'kernel': 'linear'},\n",
       " mean: 0.59172, std: 0.00713, params: {'C': 0.0030000000000000001, 'gamma': 0.10000000000000001, 'kernel': 'rbf'},\n",
       " mean: 0.59172, std: 0.00713, params: {'C': 0.0030000000000000001, 'gamma': 0.10000000000000001, 'kernel': 'sigmoid'},\n",
       " mean: 0.81065, std: 0.06641, params: {'C': 0.0030000000000000001, 'gamma': 0.29999999999999999, 'kernel': 'linear'},\n",
       " mean: 0.59172, std: 0.00713, params: {'C': 0.0030000000000000001, 'gamma': 0.29999999999999999, 'kernel': 'rbf'},\n",
       " mean: 0.59172, std: 0.00713, params: {'C': 0.0030000000000000001, 'gamma': 0.29999999999999999, 'kernel': 'sigmoid'},\n",
       " mean: 0.81065, std: 0.06641, params: {'C': 0.0030000000000000001, 'gamma': 1.0, 'kernel': 'linear'},\n",
       " mean: 0.59172, std: 0.00713, params: {'C': 0.0030000000000000001, 'gamma': 1.0, 'kernel': 'rbf'},\n",
       " mean: 0.59172, std: 0.00713, params: {'C': 0.0030000000000000001, 'gamma': 1.0, 'kernel': 'sigmoid'},\n",
       " mean: 0.81065, std: 0.06641, params: {'C': 0.0030000000000000001, 'gamma': 3.0, 'kernel': 'linear'},\n",
       " mean: 0.59172, std: 0.00713, params: {'C': 0.0030000000000000001, 'gamma': 3.0, 'kernel': 'rbf'},\n",
       " mean: 0.59172, std: 0.00713, params: {'C': 0.0030000000000000001, 'gamma': 3.0, 'kernel': 'sigmoid'},\n",
       " mean: 0.78107, std: 0.05444, params: {'C': 0.01, 'gamma': 0.001, 'kernel': 'linear'},\n",
       " mean: 0.59172, std: 0.00713, params: {'C': 0.01, 'gamma': 0.001, 'kernel': 'rbf'},\n",
       " mean: 0.59172, std: 0.00713, params: {'C': 0.01, 'gamma': 0.001, 'kernel': 'sigmoid'},\n",
       " mean: 0.78107, std: 0.05444, params: {'C': 0.01, 'gamma': 0.0030000000000000001, 'kernel': 'linear'},\n",
       " mean: 0.59172, std: 0.00713, params: {'C': 0.01, 'gamma': 0.0030000000000000001, 'kernel': 'rbf'},\n",
       " mean: 0.59172, std: 0.00713, params: {'C': 0.01, 'gamma': 0.0030000000000000001, 'kernel': 'sigmoid'},\n",
       " mean: 0.78107, std: 0.05444, params: {'C': 0.01, 'gamma': 0.01, 'kernel': 'linear'},\n",
       " mean: 0.59172, std: 0.00713, params: {'C': 0.01, 'gamma': 0.01, 'kernel': 'rbf'},\n",
       " mean: 0.59172, std: 0.00713, params: {'C': 0.01, 'gamma': 0.01, 'kernel': 'sigmoid'},\n",
       " mean: 0.78107, std: 0.05444, params: {'C': 0.01, 'gamma': 0.029999999999999999, 'kernel': 'linear'},\n",
       " mean: 0.59172, std: 0.00713, params: {'C': 0.01, 'gamma': 0.029999999999999999, 'kernel': 'rbf'},\n",
       " mean: 0.59172, std: 0.00713, params: {'C': 0.01, 'gamma': 0.029999999999999999, 'kernel': 'sigmoid'},\n",
       " mean: 0.78107, std: 0.05444, params: {'C': 0.01, 'gamma': 0.10000000000000001, 'kernel': 'linear'},\n",
       " mean: 0.59172, std: 0.00713, params: {'C': 0.01, 'gamma': 0.10000000000000001, 'kernel': 'rbf'},\n",
       " mean: 0.59172, std: 0.00713, params: {'C': 0.01, 'gamma': 0.10000000000000001, 'kernel': 'sigmoid'},\n",
       " mean: 0.78107, std: 0.05444, params: {'C': 0.01, 'gamma': 0.29999999999999999, 'kernel': 'linear'},\n",
       " mean: 0.59172, std: 0.00713, params: {'C': 0.01, 'gamma': 0.29999999999999999, 'kernel': 'rbf'},\n",
       " mean: 0.77811, std: 0.08373, params: {'C': 0.01, 'gamma': 0.29999999999999999, 'kernel': 'sigmoid'},\n",
       " mean: 0.78107, std: 0.05444, params: {'C': 0.01, 'gamma': 1.0, 'kernel': 'linear'},\n",
       " mean: 0.59172, std: 0.00713, params: {'C': 0.01, 'gamma': 1.0, 'kernel': 'rbf'},\n",
       " mean: 0.78698, std: 0.06071, params: {'C': 0.01, 'gamma': 1.0, 'kernel': 'sigmoid'},\n",
       " mean: 0.78107, std: 0.05444, params: {'C': 0.01, 'gamma': 3.0, 'kernel': 'linear'},\n",
       " mean: 0.59172, std: 0.00713, params: {'C': 0.01, 'gamma': 3.0, 'kernel': 'rbf'},\n",
       " mean: 0.79290, std: 0.05671, params: {'C': 0.01, 'gamma': 3.0, 'kernel': 'sigmoid'},\n",
       " mean: 0.78698, std: 0.05899, params: {'C': 0.029999999999999999, 'gamma': 0.001, 'kernel': 'linear'},\n",
       " mean: 0.59172, std: 0.00713, params: {'C': 0.029999999999999999, 'gamma': 0.001, 'kernel': 'rbf'},\n",
       " mean: 0.59172, std: 0.00713, params: {'C': 0.029999999999999999, 'gamma': 0.001, 'kernel': 'sigmoid'},\n",
       " mean: 0.78698, std: 0.05899, params: {'C': 0.029999999999999999, 'gamma': 0.0030000000000000001, 'kernel': 'linear'},\n",
       " mean: 0.59172, std: 0.00713, params: {'C': 0.029999999999999999, 'gamma': 0.0030000000000000001, 'kernel': 'rbf'},\n",
       " mean: 0.59172, std: 0.00713, params: {'C': 0.029999999999999999, 'gamma': 0.0030000000000000001, 'kernel': 'sigmoid'},\n",
       " mean: 0.78698, std: 0.05899, params: {'C': 0.029999999999999999, 'gamma': 0.01, 'kernel': 'linear'},\n",
       " mean: 0.59172, std: 0.00713, params: {'C': 0.029999999999999999, 'gamma': 0.01, 'kernel': 'rbf'},\n",
       " mean: 0.59172, std: 0.00713, params: {'C': 0.029999999999999999, 'gamma': 0.01, 'kernel': 'sigmoid'},\n",
       " mean: 0.78698, std: 0.05899, params: {'C': 0.029999999999999999, 'gamma': 0.029999999999999999, 'kernel': 'linear'},\n",
       " mean: 0.59172, std: 0.00713, params: {'C': 0.029999999999999999, 'gamma': 0.029999999999999999, 'kernel': 'rbf'},\n",
       " mean: 0.59172, std: 0.00713, params: {'C': 0.029999999999999999, 'gamma': 0.029999999999999999, 'kernel': 'sigmoid'},\n",
       " mean: 0.78698, std: 0.05899, params: {'C': 0.029999999999999999, 'gamma': 0.10000000000000001, 'kernel': 'linear'},\n",
       " mean: 0.59172, std: 0.00713, params: {'C': 0.029999999999999999, 'gamma': 0.10000000000000001, 'kernel': 'rbf'},\n",
       " mean: 0.80473, std: 0.06303, params: {'C': 0.029999999999999999, 'gamma': 0.10000000000000001, 'kernel': 'sigmoid'},\n",
       " mean: 0.78698, std: 0.05899, params: {'C': 0.029999999999999999, 'gamma': 0.29999999999999999, 'kernel': 'linear'},\n",
       " mean: 0.59172, std: 0.00713, params: {'C': 0.029999999999999999, 'gamma': 0.29999999999999999, 'kernel': 'rbf'},\n",
       " mean: 0.78402, std: 0.07146, params: {'C': 0.029999999999999999, 'gamma': 0.29999999999999999, 'kernel': 'sigmoid'},\n",
       " mean: 0.78698, std: 0.05899, params: {'C': 0.029999999999999999, 'gamma': 1.0, 'kernel': 'linear'},\n",
       " mean: 0.59172, std: 0.00713, params: {'C': 0.029999999999999999, 'gamma': 1.0, 'kernel': 'rbf'},\n",
       " mean: 0.77219, std: 0.08295, params: {'C': 0.029999999999999999, 'gamma': 1.0, 'kernel': 'sigmoid'},\n",
       " mean: 0.78698, std: 0.05899, params: {'C': 0.029999999999999999, 'gamma': 3.0, 'kernel': 'linear'},\n",
       " mean: 0.59172, std: 0.00713, params: {'C': 0.029999999999999999, 'gamma': 3.0, 'kernel': 'rbf'},\n",
       " mean: 0.77515, std: 0.07886, params: {'C': 0.029999999999999999, 'gamma': 3.0, 'kernel': 'sigmoid'},\n",
       " mean: 0.79290, std: 0.07155, params: {'C': 0.10000000000000001, 'gamma': 0.001, 'kernel': 'linear'},\n",
       " mean: 0.59172, std: 0.00713, params: {'C': 0.10000000000000001, 'gamma': 0.001, 'kernel': 'rbf'},\n",
       " mean: 0.59172, std: 0.00713, params: {'C': 0.10000000000000001, 'gamma': 0.001, 'kernel': 'sigmoid'},\n",
       " mean: 0.79290, std: 0.07155, params: {'C': 0.10000000000000001, 'gamma': 0.0030000000000000001, 'kernel': 'linear'},\n",
       " mean: 0.59172, std: 0.00713, params: {'C': 0.10000000000000001, 'gamma': 0.0030000000000000001, 'kernel': 'rbf'},\n",
       " mean: 0.59172, std: 0.00713, params: {'C': 0.10000000000000001, 'gamma': 0.0030000000000000001, 'kernel': 'sigmoid'},\n",
       " mean: 0.79290, std: 0.07155, params: {'C': 0.10000000000000001, 'gamma': 0.01, 'kernel': 'linear'},\n",
       " mean: 0.75740, std: 0.06006, params: {'C': 0.10000000000000001, 'gamma': 0.01, 'kernel': 'rbf'},\n",
       " mean: 0.60059, std: 0.01675, params: {'C': 0.10000000000000001, 'gamma': 0.01, 'kernel': 'sigmoid'},\n",
       " mean: 0.79290, std: 0.07155, params: {'C': 0.10000000000000001, 'gamma': 0.029999999999999999, 'kernel': 'linear'},\n",
       " mean: 0.81065, std: 0.05282, params: {'C': 0.10000000000000001, 'gamma': 0.029999999999999999, 'kernel': 'rbf'},\n",
       " mean: 0.81361, std: 0.06628, params: {'C': 0.10000000000000001, 'gamma': 0.029999999999999999, 'kernel': 'sigmoid'},\n",
       " mean: 0.79290, std: 0.07155, params: {'C': 0.10000000000000001, 'gamma': 0.10000000000000001, 'kernel': 'linear'},\n",
       " mean: 0.77219, std: 0.08562, params: {'C': 0.10000000000000001, 'gamma': 0.10000000000000001, 'kernel': 'rbf'},\n",
       " mean: 0.78994, std: 0.05210, params: {'C': 0.10000000000000001, 'gamma': 0.10000000000000001, 'kernel': 'sigmoid'},\n",
       " mean: 0.79290, std: 0.07155, params: {'C': 0.10000000000000001, 'gamma': 0.29999999999999999, 'kernel': 'linear'},\n",
       " mean: 0.59172, std: 0.00713, params: {'C': 0.10000000000000001, 'gamma': 0.29999999999999999, 'kernel': 'rbf'},\n",
       " mean: 0.78698, std: 0.07525, params: {'C': 0.10000000000000001, 'gamma': 0.29999999999999999, 'kernel': 'sigmoid'},\n",
       " mean: 0.79290, std: 0.07155, params: {'C': 0.10000000000000001, 'gamma': 1.0, 'kernel': 'linear'},\n",
       " mean: 0.59172, std: 0.00713, params: {'C': 0.10000000000000001, 'gamma': 1.0, 'kernel': 'rbf'},\n",
       " mean: 0.77515, std: 0.09352, params: {'C': 0.10000000000000001, 'gamma': 1.0, 'kernel': 'sigmoid'},\n",
       " mean: 0.79290, std: 0.07155, params: {'C': 0.10000000000000001, 'gamma': 3.0, 'kernel': 'linear'},\n",
       " mean: 0.59172, std: 0.00713, params: {'C': 0.10000000000000001, 'gamma': 3.0, 'kernel': 'rbf'},\n",
       " mean: 0.76923, std: 0.08732, params: {'C': 0.10000000000000001, 'gamma': 3.0, 'kernel': 'sigmoid'},\n",
       " mean: 0.78698, std: 0.05989, params: {'C': 0.29999999999999999, 'gamma': 0.001, 'kernel': 'linear'},\n",
       " mean: 0.59172, std: 0.00713, params: {'C': 0.29999999999999999, 'gamma': 0.001, 'kernel': 'rbf'},\n",
       " mean: 0.59172, std: 0.00713, params: {'C': 0.29999999999999999, 'gamma': 0.001, 'kernel': 'sigmoid'},\n",
       " mean: 0.78698, std: 0.05989, params: {'C': 0.29999999999999999, 'gamma': 0.0030000000000000001, 'kernel': 'linear'},\n",
       " mean: 0.78402, std: 0.06952, params: {'C': 0.29999999999999999, 'gamma': 0.0030000000000000001, 'kernel': 'rbf'},\n",
       " mean: 0.59467, std: 0.01483, params: {'C': 0.29999999999999999, 'gamma': 0.0030000000000000001, 'kernel': 'sigmoid'},\n",
       " mean: 0.78698, std: 0.05989, params: {'C': 0.29999999999999999, 'gamma': 0.01, 'kernel': 'linear'},\n",
       " mean: 0.80473, std: 0.05526, params: {'C': 0.29999999999999999, 'gamma': 0.01, 'kernel': 'rbf'},\n",
       " mean: 0.81065, std: 0.06641, params: {'C': 0.29999999999999999, 'gamma': 0.01, 'kernel': 'sigmoid'},\n",
       " mean: 0.78698, std: 0.05989, params: {'C': 0.29999999999999999, 'gamma': 0.029999999999999999, 'kernel': 'linear'},\n",
       " mean: 0.80473, std: 0.06313, params: {'C': 0.29999999999999999, 'gamma': 0.029999999999999999, 'kernel': 'rbf'},\n",
       " mean: 0.78107, std: 0.05331, params: {'C': 0.29999999999999999, 'gamma': 0.029999999999999999, 'kernel': 'sigmoid'},\n",
       " mean: 0.78698, std: 0.05989, params: {'C': 0.29999999999999999, 'gamma': 0.10000000000000001, 'kernel': 'linear'},\n",
       " mean: 0.79290, std: 0.07728, params: {'C': 0.29999999999999999, 'gamma': 0.10000000000000001, 'kernel': 'rbf'},\n",
       " mean: 0.80178, std: 0.05002, params: {'C': 0.29999999999999999, 'gamma': 0.10000000000000001, 'kernel': 'sigmoid'},\n",
       " mean: 0.78698, std: 0.05989, params: {'C': 0.29999999999999999, 'gamma': 0.29999999999999999, 'kernel': 'linear'},\n",
       " mean: 0.66864, std: 0.04346, params: {'C': 0.29999999999999999, 'gamma': 0.29999999999999999, 'kernel': 'rbf'},\n",
       " mean: 0.78107, std: 0.04014, params: {'C': 0.29999999999999999, 'gamma': 0.29999999999999999, 'kernel': 'sigmoid'},\n",
       " mean: 0.78698, std: 0.05989, params: {'C': 0.29999999999999999, 'gamma': 1.0, 'kernel': 'linear'},\n",
       " mean: 0.59172, std: 0.00713, params: {'C': 0.29999999999999999, 'gamma': 1.0, 'kernel': 'rbf'},\n",
       " mean: 0.70710, std: 0.06566, params: {'C': 0.29999999999999999, 'gamma': 1.0, 'kernel': 'sigmoid'},\n",
       " mean: 0.78698, std: 0.05989, params: {'C': 0.29999999999999999, 'gamma': 3.0, 'kernel': 'linear'},\n",
       " mean: 0.59172, std: 0.00713, params: {'C': 0.29999999999999999, 'gamma': 3.0, 'kernel': 'rbf'},\n",
       " mean: 0.73964, std: 0.07442, params: {'C': 0.29999999999999999, 'gamma': 3.0, 'kernel': 'sigmoid'},\n",
       " mean: 0.78994, std: 0.06089, params: {'C': 1.0, 'gamma': 0.001, 'kernel': 'linear'},\n",
       " mean: 0.78994, std: 0.07020, params: {'C': 1.0, 'gamma': 0.001, 'kernel': 'rbf'},\n",
       " mean: 0.60059, std: 0.01675, params: {'C': 1.0, 'gamma': 0.001, 'kernel': 'sigmoid'},\n",
       " mean: 0.78994, std: 0.06089, params: {'C': 1.0, 'gamma': 0.0030000000000000001, 'kernel': 'linear'},\n",
       " mean: 0.80178, std: 0.04560, params: {'C': 1.0, 'gamma': 0.0030000000000000001, 'kernel': 'rbf'},\n",
       " mean: 0.81065, std: 0.06641, params: {'C': 1.0, 'gamma': 0.0030000000000000001, 'kernel': 'sigmoid'},\n",
       " mean: 0.78994, std: 0.06089, params: {'C': 1.0, 'gamma': 0.01, 'kernel': 'linear'},\n",
       " mean: 0.78107, std: 0.05646, params: {'C': 1.0, 'gamma': 0.01, 'kernel': 'rbf'},\n",
       " mean: 0.77811, std: 0.05647, params: {'C': 1.0, 'gamma': 0.01, 'kernel': 'sigmoid'},\n",
       " mean: 0.78994, std: 0.06089, params: {'C': 1.0, 'gamma': 0.029999999999999999, 'kernel': 'linear'},\n",
       " mean: 0.79290, std: 0.06260, params: {'C': 1.0, 'gamma': 0.029999999999999999, 'kernel': 'rbf'},\n",
       " mean: 0.78107, std: 0.05331, params: {'C': 1.0, 'gamma': 0.029999999999999999, 'kernel': 'sigmoid'},\n",
       " mean: 0.78994, std: 0.06089, params: {'C': 1.0, 'gamma': 0.10000000000000001, 'kernel': 'linear'},\n",
       " mean: 0.78994, std: 0.06375, params: {'C': 1.0, 'gamma': 0.10000000000000001, 'kernel': 'rbf'},\n",
       " mean: 0.75740, std: 0.07051, params: {'C': 1.0, 'gamma': 0.10000000000000001, 'kernel': 'sigmoid'},\n",
       " mean: 0.78994, std: 0.06089, params: {'C': 1.0, 'gamma': 0.29999999999999999, 'kernel': 'linear'},\n",
       " mean: 0.78698, std: 0.06261, params: {'C': 1.0, 'gamma': 0.29999999999999999, 'kernel': 'rbf'},\n",
       " mean: 0.75740, std: 0.03945, params: {'C': 1.0, 'gamma': 0.29999999999999999, 'kernel': 'sigmoid'},\n",
       " mean: 0.78994, std: 0.06089, params: {'C': 1.0, 'gamma': 1.0, 'kernel': 'linear'},\n",
       " mean: 0.64497, std: 0.03250, params: {'C': 1.0, 'gamma': 1.0, 'kernel': 'rbf'},\n",
       " mean: 0.70118, std: 0.06800, params: {'C': 1.0, 'gamma': 1.0, 'kernel': 'sigmoid'},\n",
       " mean: 0.78994, std: 0.06089, params: {'C': 1.0, 'gamma': 3.0, 'kernel': 'linear'},\n",
       " mean: 0.59467, std: 0.01038, params: {'C': 1.0, 'gamma': 3.0, 'kernel': 'rbf'},\n",
       " mean: 0.71893, std: 0.05375, params: {'C': 1.0, 'gamma': 3.0, 'kernel': 'sigmoid'},\n",
       " mean: 0.78994, std: 0.06089, params: {'C': 3.0, 'gamma': 0.001, 'kernel': 'linear'},\n",
       " mean: 0.79586, std: 0.04849, params: {'C': 3.0, 'gamma': 0.001, 'kernel': 'rbf'},\n",
       " mean: 0.81065, std: 0.06641, params: {'C': 3.0, 'gamma': 0.001, 'kernel': 'sigmoid'},\n",
       " mean: 0.78994, std: 0.06089, params: {'C': 3.0, 'gamma': 0.0030000000000000001, 'kernel': 'linear'},\n",
       " mean: 0.77515, std: 0.05632, params: {'C': 3.0, 'gamma': 0.0030000000000000001, 'kernel': 'rbf'},\n",
       " mean: 0.77811, std: 0.05647, params: {'C': 3.0, 'gamma': 0.0030000000000000001, 'kernel': 'sigmoid'},\n",
       " mean: 0.78994, std: 0.06089, params: {'C': 3.0, 'gamma': 0.01, 'kernel': 'linear'},\n",
       " mean: 0.78402, std: 0.06442, params: {'C': 3.0, 'gamma': 0.01, 'kernel': 'rbf'},\n",
       " mean: 0.78402, std: 0.05474, params: {'C': 3.0, 'gamma': 0.01, 'kernel': 'sigmoid'},\n",
       " mean: 0.78994, std: 0.06089, params: {'C': 3.0, 'gamma': 0.029999999999999999, 'kernel': 'linear'},\n",
       " mean: 0.78402, std: 0.06043, params: {'C': 3.0, 'gamma': 0.029999999999999999, 'kernel': 'rbf'},\n",
       " mean: 0.77811, std: 0.05058, params: {'C': 3.0, 'gamma': 0.029999999999999999, 'kernel': 'sigmoid'},\n",
       " mean: 0.78994, std: 0.06089, params: {'C': 3.0, 'gamma': 0.10000000000000001, 'kernel': 'linear'},\n",
       " mean: 0.77515, std: 0.06869, params: {'C': 3.0, 'gamma': 0.10000000000000001, 'kernel': 'rbf'},\n",
       " mean: 0.73964, std: 0.06337, params: {'C': 3.0, 'gamma': 0.10000000000000001, 'kernel': 'sigmoid'},\n",
       " mean: 0.78994, std: 0.06089, params: {'C': 3.0, 'gamma': 0.29999999999999999, 'kernel': 'linear'},\n",
       " mean: 0.76036, std: 0.06950, params: {'C': 3.0, 'gamma': 0.29999999999999999, 'kernel': 'rbf'},\n",
       " mean: 0.73077, std: 0.06472, params: {'C': 3.0, 'gamma': 0.29999999999999999, 'kernel': 'sigmoid'},\n",
       " mean: 0.78994, std: 0.06089, params: {'C': 3.0, 'gamma': 1.0, 'kernel': 'linear'},\n",
       " mean: 0.65976, std: 0.04503, params: {'C': 3.0, 'gamma': 1.0, 'kernel': 'rbf'},\n",
       " mean: 0.67456, std: 0.07983, params: {'C': 3.0, 'gamma': 1.0, 'kernel': 'sigmoid'},\n",
       " mean: 0.78994, std: 0.06089, params: {'C': 3.0, 'gamma': 3.0, 'kernel': 'linear'},\n",
       " mean: 0.60355, std: 0.01321, params: {'C': 3.0, 'gamma': 3.0, 'kernel': 'rbf'},\n",
       " mean: 0.70414, std: 0.06586, params: {'C': 3.0, 'gamma': 3.0, 'kernel': 'sigmoid'}]"
      ]
     },
     "execution_count": 158,
     "metadata": {},
     "output_type": "execute_result"
    }
   ],
   "source": [
    "grid.grid_scores_"
   ]
  },
  {
   "cell_type": "code",
   "execution_count": 159,
   "metadata": {},
   "outputs": [
    {
     "data": {
      "text/plain": [
       "{'C': 0.10000000000000001, 'gamma': 0.029999999999999999, 'kernel': 'sigmoid'}"
      ]
     },
     "execution_count": 159,
     "metadata": {},
     "output_type": "execute_result"
    }
   ],
   "source": [
    "grid.best_params_"
   ]
  },
  {
   "cell_type": "code",
   "execution_count": 160,
   "metadata": {},
   "outputs": [
    {
     "data": {
      "text/plain": [
       "0.76991150442477874"
      ]
     },
     "execution_count": 160,
     "metadata": {},
     "output_type": "execute_result"
    }
   ],
   "source": [
    "svm_clf = SVC(C=3, kernel ='rbf', gamma = 0.003)\n",
    "svm_clf.fit(X_train_t_std, y_train_t)\n",
    "y_pred_val = svm_clf.predict(X_val_std)\n",
    "accuracy_score(y_pred_val, y_val)"
   ]
  },
  {
   "cell_type": "code",
   "execution_count": 161,
   "metadata": {},
   "outputs": [
    {
     "data": {
      "text/plain": [
       "0.81415929203539827"
      ]
     },
     "execution_count": 161,
     "metadata": {},
     "output_type": "execute_result"
    }
   ],
   "source": [
    "y_pred_test = svm_clf.predict(X_test_std)\n",
    "accuracy_score(y_pred_test, y_test)"
   ]
  },
  {
   "cell_type": "code",
   "execution_count": 162,
   "metadata": {},
   "outputs": [
    {
     "data": {
      "text/plain": [
       "array([-0.22955184, -0.98266923,  0.67130006, -0.67456947,  0.86184676,\n",
       "       -0.3398699 , -0.74312487,  0.70679665, -0.66666667, -0.76089192,\n",
       "       -0.2638565 ,  1.72524508, -0.57051748, -0.88257995])"
      ]
     },
     "execution_count": 162,
     "metadata": {},
     "output_type": "execute_result"
    }
   ],
   "source": [
    "X_test_std[0,:]"
   ]
  },
  {
   "cell_type": "code",
   "execution_count": 127,
   "metadata": {},
   "outputs": [
    {
     "data": {
      "text/plain": [
       "array([  42.,    1.,    2.,  120.,  295.,    0.,    0.,  162.,    0.,    0.])"
      ]
     },
     "execution_count": 127,
     "metadata": {},
     "output_type": "execute_result"
    }
   ],
   "source": [
    "X_test[0,:]"
   ]
  },
  {
   "cell_type": "code",
   "execution_count": 128,
   "metadata": {},
   "outputs": [
    {
     "data": {
      "text/plain": [
       "0"
      ]
     },
     "execution_count": 128,
     "metadata": {},
     "output_type": "execute_result"
    }
   ],
   "source": [
    "y_pred_test[0]"
   ]
  },
  {
   "cell_type": "code",
   "execution_count": 129,
   "metadata": {},
   "outputs": [
    {
     "data": {
      "text/plain": [
       "0"
      ]
     },
     "execution_count": 129,
     "metadata": {},
     "output_type": "execute_result"
    }
   ],
   "source": [
    "y_test[0]"
   ]
  },
  {
   "cell_type": "code",
   "execution_count": 131,
   "metadata": {},
   "outputs": [
    {
     "data": {
      "text/plain": [
       "array([[-0.8762816 ,  0.67130006,  0.97007101, ..., -1.13864849,\n",
       "         1.5       ,  1.51102919],\n",
       "       [-0.76989396,  0.67130006,  0.97007101, ...,  1.05831001,\n",
       "        -0.66666667, -0.76089192],\n",
       "       [-1.62099505,  0.67130006, -0.05777852, ...,  1.14618835,\n",
       "        -0.66666667, -0.76089192],\n",
       "       ..., \n",
       "       [ 1.4642464 ,  0.67130006,  0.97007101, ..., -1.35834434,\n",
       "         1.5       ,  0.14787652],\n",
       "       [ 1.88979695, -1.48964681, -2.11347758, ...,  0.22346578,\n",
       "        -0.66666667,  0.87489128],\n",
       "       [-1.08905687, -1.48964681, -1.08562805, ..., -0.17198675,\n",
       "        -0.66666667, -0.76089192]])"
      ]
     },
     "execution_count": 131,
     "metadata": {},
     "output_type": "execute_result"
    }
   ],
   "source": []
  },
  {
   "cell_type": "code",
   "execution_count": 163,
   "metadata": {},
   "outputs": [
    {
     "data": {
      "text/plain": [
       "(564, 15)"
      ]
     },
     "execution_count": 163,
     "metadata": {},
     "output_type": "execute_result"
    }
   ],
   "source": [
    "data.shape"
   ]
  },
  {
   "cell_type": "code",
   "execution_count": 164,
   "metadata": {},
   "outputs": [],
   "source": [
    "nominal_feature = pd.get_dummies(data['Resting_ECG'], prefix='Resting_ECG')\n",
    "data[nominal_feature.columns] = nominal_feature"
   ]
  },
  {
   "cell_type": "code",
   "execution_count": 165,
   "metadata": {},
   "outputs": [],
   "source": [
    "data.__delitem__('Resting_ECG')"
   ]
  },
  {
   "cell_type": "code",
   "execution_count": 166,
   "metadata": {},
   "outputs": [],
   "source": [
    "output_df = data[\"Diagnosis\"]"
   ]
  },
  {
   "cell_type": "code",
   "execution_count": 167,
   "metadata": {},
   "outputs": [],
   "source": [
    "data.__delitem__(\"Diagnosis\")"
   ]
  },
  {
   "cell_type": "code",
   "execution_count": 168,
   "metadata": {},
   "outputs": [],
   "source": [
    "data[\"Diagnosis\"] = output_df"
   ]
  },
  {
   "cell_type": "code",
   "execution_count": 171,
   "metadata": {},
   "outputs": [],
   "source": [
    "data.to_csv(\"Main_Data.csv\")"
   ]
  },
  {
   "cell_type": "code",
   "execution_count": 170,
   "metadata": {},
   "outputs": [],
   "source": [
    "data.__delitem__(\"Unnamed: 0\")"
   ]
  },
  {
   "cell_type": "code",
   "execution_count": 174,
   "metadata": {},
   "outputs": [
    {
     "data": {
      "text/plain": [
       "Index(['Age', 'Sex', 'Resting_BP', 'Cholestrol_mg/dl', 'Fasting_sugar',\n",
       "       'Max_HR_achieved', 'Exercise_induced_angina', 'ST_depression',\n",
       "       'Chest_pain_type_1', 'Chest_pain_type_2', 'Chest_pain_type_3',\n",
       "       'Chest_pain_type_4', 'Resting_ECG_0', 'Resting_ECG_1', 'Resting_ECG_2',\n",
       "       'Diagnosis'],\n",
       "      dtype='object')"
      ]
     },
     "execution_count": 174,
     "metadata": {},
     "output_type": "execute_result"
    }
   ],
   "source": [
    "data.columns"
   ]
  },
  {
   "cell_type": "code",
   "execution_count": null,
   "metadata": {},
   "outputs": [],
   "source": [
    "data."
   ]
  }
 ],
 "metadata": {
  "kernelspec": {
   "display_name": "Python 3",
   "language": "python",
   "name": "python3"
  },
  "language_info": {
   "codemirror_mode": {
    "name": "ipython",
    "version": 3
   },
   "file_extension": ".py",
   "mimetype": "text/x-python",
   "name": "python",
   "nbconvert_exporter": "python",
   "pygments_lexer": "ipython3",
   "version": "3.6.2"
  }
 },
 "nbformat": 4,
 "nbformat_minor": 2
}
