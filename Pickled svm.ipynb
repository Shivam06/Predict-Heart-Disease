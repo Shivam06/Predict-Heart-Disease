{
 "cells": [
  {
   "cell_type": "code",
   "execution_count": 3,
   "metadata": {
    "collapsed": true
   },
   "outputs": [],
   "source": [
    "import numpy as np\n",
    "import pandas as pd\n",
    "import tensorflow as tf"
   ]
  },
  {
   "cell_type": "code",
   "execution_count": 4,
   "metadata": {},
   "outputs": [
    {
     "name": "stdout",
     "output_type": "stream",
     "text": [
      "Age: 55\n",
      "Sex:1\n",
      "Chest_pain type: 3\n",
      "Resting BP: 140\n",
      "Cholestrol: 230\n",
      "Fasting Sugar: 1\n",
      "Resting ECG: 2\n",
      "Max_hr: 130\n",
      "Excercise induced angina: 1\n",
      "ST_depression: 2.2\n"
     ]
    }
   ],
   "source": [
    "age=input(\"Age: \")\n",
    "sex=input(\"Sex:\")\n",
    "cpt=input(\"Chest_pain type: \")\n",
    "rest_bp=input(\"Resting BP: \")\n",
    "chol=input(\"Cholestrol: \")\n",
    "fast_sugar=input(\"Fasting Sugar: \")\n",
    "rest_ecg=input(\"Resting ECG: \")\n",
    "max_hr=input(\"Max_hr: \")\n",
    "ex_in=input(\"Excercise induced angina: \")\n",
    "stdep=input(\"ST_depression: \")"
   ]
  },
  {
   "cell_type": "code",
   "execution_count": 5,
   "metadata": {
    "collapsed": true
   },
   "outputs": [],
   "source": [
    "test = np.zeros((1, 15))"
   ]
  },
  {
   "cell_type": "code",
   "execution_count": 6,
   "metadata": {
    "collapsed": true
   },
   "outputs": [],
   "source": [
    "test[0,0]=age\n",
    "test[0,1]=sex\n",
    "test[0,2]=rest_bp\n",
    "test[0,3]=chol\n",
    "test[0,4]=fast_sugar\n",
    "test[0,5]=max_hr\n",
    "test[0,6]=ex_in\n",
    "test[0,7]=stdep\n",
    "test[0,7 + int(cpt)]=1\n",
    "test[0,12 + int(rest_ecg)]=1\n"
   ]
  },
  {
   "cell_type": "code",
   "execution_count": 10,
   "metadata": {
    "collapsed": true
   },
   "outputs": [],
   "source": [
    "from sklearn.preprocessing import Normalizer\n",
    "from sklearn.externals import joblib"
   ]
  },
  {
   "cell_type": "code",
   "execution_count": 11,
   "metadata": {},
   "outputs": [
    {
     "data": {
      "text/plain": [
       "array([[ 0.18090261,  0.00328914,  0.46047938,  0.75650184,  0.00328914,\n",
       "         0.427588  ,  0.00328914,  0.0072361 ,  0.        ,  0.        ,\n",
       "         0.00328914,  0.        ,  0.        ,  0.        ,  0.00328914]])"
      ]
     },
     "execution_count": 11,
     "metadata": {},
     "output_type": "execute_result"
    }
   ],
   "source": [
    "test_std = Normalizer().fit_transform(test)\n",
    "test_std"
   ]
  },
  {
   "cell_type": "code",
   "execution_count": 15,
   "metadata": {},
   "outputs": [],
   "source": [
    "svm_clf=joblib.load('svm.pkl')"
   ]
  },
  {
   "cell_type": "code",
   "execution_count": 16,
   "metadata": {},
   "outputs": [
    {
     "data": {
      "text/plain": [
       "0"
      ]
     },
     "execution_count": 16,
     "metadata": {},
     "output_type": "execute_result"
    }
   ],
   "source": [
    "pred = svm_clf.predict(test_std)\n",
    "pred[0]"
   ]
  },
  {
   "cell_type": "code",
   "execution_count": null,
   "metadata": {
    "collapsed": true
   },
   "outputs": [],
   "source": []
  }
 ],
 "metadata": {
  "kernelspec": {
   "display_name": "Python 3",
   "language": "python",
   "name": "python3"
  },
  "language_info": {
   "codemirror_mode": {
    "name": "ipython",
    "version": 3
   },
   "file_extension": ".py",
   "mimetype": "text/x-python",
   "name": "python",
   "nbconvert_exporter": "python",
   "pygments_lexer": "ipython3",
   "version": "3.6.3"
  }
 },
 "nbformat": 4,
 "nbformat_minor": 2
}
